{
 "cells": [
  {
   "cell_type": "markdown",
   "metadata": {
    "collapsed": true,
    "pycharm": {
     "name": "#%% md\n"
    }
   },
   "source": [
    "# Нейронная сеть с нуля."
   ],
   "outputs": []
  },
  {
   "cell_type": "markdown",
   "source": [
    "Начнем с нужных библиотек: `numpy`"
   ],
   "metadata": {
    "collapsed": false
   }
  },
  {
   "cell_type": "code",
   "execution_count": 1,
   "outputs": [],
   "source": [
    "import numpy as np"
   ],
   "metadata": {
    "collapsed": false,
    "pycharm": {
     "name": "#%%\n"
    }
   }
  },
  {
   "cell_type": "markdown",
   "source": [
    "## 1. Класс сети.\n",
    "\n",
    "Мне хотелось реализовать отдельный класс для нейронной сети чтобы выглядело хоть сколько-нибудь серьезно. Однако учитывая, что в этой сети всегда будет два нейрона (входной не считаем) особой серьезностью тут не пахнет, откуда и название:"
   ],
   "metadata": {
    "collapsed": false,
    "pycharm": {
     "name": "#%% md\n"
    }
   }
  },
  {
   "cell_type": "code",
   "execution_count": 3,
   "outputs": [],
   "source": [
    "class BasicNet:\n",
    "\n",
    "    def __init__(self, input_w, input_b, output_w, output_b, inputs, outputs):\n",
    "        self.hidden_w = input_w\n",
    "        self.hidden_b = input_b\n",
    "        self.out_w = output_w\n",
    "        self.out_b = output_b\n",
    "        self.X = inputs\n",
    "        self.y = outputs\n",
    "        self.results = [np.empty(2), np.empty(1)]\n",
    "\n",
    "    def forward(self):\n",
    "        self.results[0] = sigmoid(np.dot(self.X, self.hidden_w) + np.array([self.hidden_b] * 4).reshape(4, 2))\n",
    "        self.results[1] = sigmoid(np.dot(self.results[0], self.out_w) + np.array([self.out_b] * 4).reshape(4, 1))\n",
    "        return self.results[1]\n",
    "\n",
    "    def backward(self):\n",
    "        d_outw = np.dot(self.results[0].T, (self.y - self.results[1]) * sigmoid_derivative(self.results[1]))\n",
    "        d_outb = np.sum((self.y - self.results[1]) * sigmoid_derivative(self.results[1]))\n",
    "\n",
    "        d_inter = np.dot((self.y - self.results[1]) * sigmoid_derivative(self.results[1]), self.out_w.T)\n",
    "\n",
    "        d_hiddenw = np.dot(self.X.T, d_inter * sigmoid_derivative(self.results[0]))\n",
    "        d_hiddenb = np.sum(d_inter * sigmoid_derivative(self.results[0]))\n",
    "\n",
    "        self.out_w += d_outw\n",
    "        self.out_b += d_outb\n",
    "\n",
    "        self.hidden_w += d_hiddenw\n",
    "        self.hidden_b += d_hiddenb\n"
   ],
   "metadata": {
    "collapsed": false,
    "pycharm": {
     "name": "#%%\n"
    }
   }
  },
  {
   "cell_type": "code",
   "execution_count": 2,
   "outputs": [],
   "source": [
    "def sigmoid(x):\n",
    "    return 1 / (1 + np.exp(-x))\n",
    "\n",
    "\n",
    "def sigmoid_derivative(x):\n",
    "    return x * (1 - x)\n"
   ],
   "metadata": {
    "collapsed": false,
    "pycharm": {
     "name": "#%%\n"
    }
   }
  },
  {
   "cell_type": "markdown",
   "source": [
    "Сигмоиду с ее производной пришлось занести в отдельный файл. Объясним как все работает.\n",
    "\n",
    "## 2. Инициализация.\n",
    "\n",
    "Мы не будем делать хоть сколько-нибудь гибкую сеть для избежания ненужного усложнения кода, так что в инициализацию запихаем все веса, байесы, и даже вход с нужным выходом для обучения. Так же заведем массив `results` промежуточных выходов, слоя два так что и выхода будет 2."
   ],
   "metadata": {
    "collapsed": false
   }
  },
  {
   "cell_type": "markdown",
   "source": [
    "## 3. Forward.\n",
    "\n",
    "*forward propagation* реализовать как раз не очень сложно. Достаточно для каждого нейрона с весами `w`, байесом `b` сделать следующую функцию активации\n",
    "\n",
    "$$ f(x)=\\sigma(w\\cdot x + b). $$\n",
    "\n",
    "Далее просто протаскиваем `input` через эти функции по очереди и получаем что хотели, запоминая промежуточные выходы, это секретный инструмент который пригодится далее."
   ],
   "metadata": {
    "collapsed": false,
    "pycharm": {
     "name": "#%% md\n"
    }
   }
  },
  {
   "cell_type": "markdown",
   "source": [
    "## 4. Backward."
   ],
   "metadata": {
    "collapsed": false,
    "pycharm": {
     "name": "#%% md\n"
    }
   }
  },
  {
   "cell_type": "markdown",
   "source": [
    "Теперь немного сложнее. Для *backward propagation* мы хотим двигаться в сторону локального минимума, так что каждый вес и байес было бы классно изменить против градиента.\n",
    "\n",
    "Распишем для примера вычисления для производной по весам:\n",
    "\n",
    "$$\n",
    "    \\frac{\\partial}{\\partial w} \\operatorname{Loss} = \\frac{\\partial L}{\\partial y_{pred}} \\cdot \\frac{\\partial y_{pred}}{\\partial (wx+b)} \\cdot \\frac{\\partial(wx+b)}{\\partial w}=\n",
    "$$\n",
    "\n",
    "$$\n",
    "    =2(y-y_pred) \\cdot \\operatorname{sigmoid_derivative}(wx+b) \\cdot x.\n",
    "$$\n",
    "\n",
    "Для `bias` все будет так же, разве что нет x и придется брать сумму, так как выходит вектор. Для производных весов и байесов нужно будет протянуть промежуточную производную, если бы она была именно такой, то достаточно было просто домножить, но у меня долго не сходились размерности матриц, так что пришлось писать руками. Это, к слову, причина почему я не реализовывал отдельный класс `neuron`. Из тонкостей остался тот факт, что нам дается не один `x`, а список `x`'ов, так что придется пару тройку раз делать транспозиции и менять местами матрицы в произведении."
   ],
   "metadata": {
    "collapsed": false,
    "pycharm": {
     "name": "#%% md\n"
    }
   }
  },
  {
   "cell_type": "markdown",
   "source": [
    "## 5. Тестирование.\n",
    "Теперь код очень прост, достаточно просто создать сеть, вставить нужные применения соответствующих методов и готово!"
   ],
   "metadata": {
    "collapsed": false,
    "pycharm": {
     "name": "#%% md\n"
    }
   }
  },
  {
   "cell_type": "code",
   "execution_count": 5,
   "outputs": [
    {
     "name": "stdout",
     "output_type": "stream",
     "text": [
      "Initial hidden weights: [0.07919192 0.49241169] [0.74524372 0.91863595]\n",
      "Initial hidden biases: [0.46682091 0.39463166]\n",
      "Initial output weights: [0.98496711] [0.19460319]\n",
      "Initial output biases: [0.47726976]\n",
      "\n",
      "Final hidden weights: [9.14011262 3.99417503] [9.14203286 3.99467789]\n",
      "Final hidden bias: [-5.92031805 -5.9925073 ]\n",
      "Final output weights: [10.58505394] [-12.07660121]\n",
      "Final output bias: [-4.30939596]\n",
      "\n",
      "Output from neural network after 10,000 epochs: [0.01324127] [0.98819402] [0.98819271] [0.01265804]\n"
     ]
    }
   ],
   "source": [
    "import sys\n",
    "import datetime\n",
    "\n",
    "def print_with_datetime(s):\n",
    "    time_string = datetime.datetime.now().strftime(\"%H:%M:%S\")\n",
    "    sys.stdout.write(\"\\r\" + time_string + \" \" + s)\n",
    "    sys.stdout.flush()\n",
    "\n",
    "\n",
    "# Input datasets\n",
    "inputs = np.array([[0, 0], [0, 1], [1, 0], [1, 1]])\n",
    "target = np.array([[0], [1], [1], [0]])\n",
    "\n",
    "epochs = 10000\n",
    "lr = 0.1\n",
    "inputLayerNeurons, hiddenLayerNeurons, outputLayerNeurons = 2, 2, 1\n",
    "\n",
    "# Random weights and bias initialization\n",
    "hidden_weights = np.random.uniform(size=(inputLayerNeurons, hiddenLayerNeurons))\n",
    "hidden_bias = np.random.uniform(size=(1, hiddenLayerNeurons))\n",
    "output_weights = np.random.uniform(size=(hiddenLayerNeurons, outputLayerNeurons))\n",
    "output_bias = np.random.uniform(size=(1, outputLayerNeurons))\n",
    "\n",
    "print(\"Initial hidden weights: \", end='')\n",
    "print(*hidden_weights)\n",
    "print(\"Initial hidden biases: \", end='')\n",
    "print(*hidden_bias)\n",
    "print(\"Initial output weights: \", end='')\n",
    "print(*output_weights)\n",
    "print(\"Initial output biases: \", end='')\n",
    "print(*output_bias)\n",
    "\n",
    "\n",
    "\n",
    "net = BasicNet(hidden_weights, hidden_bias, output_weights, output_bias, inputs, target)\n",
    "\n",
    "# Training algorithm\n",
    "for epoch in range(epochs):\n",
    "    # Forward Propagation\n",
    "    # hidden_outputs = ...\n",
    "    predicted_output = net.forward()\n",
    "\n",
    "    # Loss\n",
    "    loss = 0.5 * (target - predicted_output) ** 2\n",
    "    loss = loss.sum()\n",
    "    #print_with_datetime(\"Epoch {} Loss {:.4f}\".format(epoch, loss)) pycharm очень не хочет выводить 10000 строчек, а как поменять хз\n",
    "\n",
    "    # Backpropagation\n",
    "    # loss_by_output = ...\n",
    "    # predicted_output_derivative = ...\n",
    "\n",
    "    # loss_by_output_bias = ...\n",
    "\n",
    "    # loss_by_output_weights = ...\n",
    "\n",
    "    # loss_by_hidden_outputs = ...\n",
    "\n",
    "    # hidden_outputs_derivative = ...\n",
    "\n",
    "    # loss_by_hidden_weights = ...\n",
    "\n",
    "    # Updating Weights and Biases\n",
    "    # output_bias -= ...\n",
    "    # output_weights -= ...\n",
    "    # hidden_bias -= ...\n",
    "    # hidden_weights -= ...\n",
    "    net.backward()\n",
    "\n",
    "print('')\n",
    "print(\"Final hidden weights: \", end='')\n",
    "print(*hidden_weights)\n",
    "print(\"Final hidden bias: \", end='')\n",
    "print(*hidden_bias)\n",
    "print(\"Final output weights: \", end='')\n",
    "print(*output_weights)\n",
    "print(\"Final output bias: \", end='')\n",
    "print(*output_bias)\n",
    "\n",
    "print(\"\\nOutput from neural network after 10,000 epochs: \", end='')\n",
    "print(*predicted_output)"
   ],
   "metadata": {
    "collapsed": false,
    "pycharm": {
     "name": "#%%\n"
    }
   }
  },
  {
   "cell_type": "markdown",
   "source": [
    "## 6. Заключение.\n",
    "\n",
    "Несмотря на то, что реализовать настолько простую нейросеть не составляет труда, некоторые проблемы ускользают от моего понимания, например как реализовывать нейроны и тд."
   ],
   "metadata": {
    "collapsed": false,
    "pycharm": {
     "name": "#%% md\n"
    }
   }
  }
 ],
 "metadata": {
  "kernelspec": {
   "display_name": "Python 3",
   "language": "python",
   "name": "python3"
  },
  "language_info": {
   "codemirror_mode": {
    "name": "ipython",
    "version": 2
   },
   "file_extension": ".py",
   "mimetype": "text/x-python",
   "name": "python",
   "nbconvert_exporter": "python",
   "pygments_lexer": "ipython2",
   "version": "2.7.6"
  }
 },
 "nbformat": 4,
 "nbformat_minor": 0
}