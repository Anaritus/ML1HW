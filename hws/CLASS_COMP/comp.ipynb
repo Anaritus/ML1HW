{
 "cells": [
  {
   "cell_type": "code",
   "execution_count": 1,
   "id": "96b521f5",
   "metadata": {},
   "outputs": [],
   "source": [
    "import numpy as np\n",
    "import pandas as pd\n",
    "import scipy.stats as ss\n",
    "from typing import Callable\n",
    "import pandas as pd"
   ]
  },
  {
   "cell_type": "code",
   "execution_count": 2,
   "id": "dd4cbb42",
   "metadata": {},
   "outputs": [
    {
     "data": {
      "text/html": [
       "<div>\n",
       "<style scoped>\n",
       "    .dataframe tbody tr th:only-of-type {\n",
       "        vertical-align: middle;\n",
       "    }\n",
       "\n",
       "    .dataframe tbody tr th {\n",
       "        vertical-align: top;\n",
       "    }\n",
       "\n",
       "    .dataframe thead th {\n",
       "        text-align: right;\n",
       "    }\n",
       "</style>\n",
       "<table border=\"1\" class=\"dataframe\">\n",
       "  <thead>\n",
       "    <tr style=\"text-align: right;\">\n",
       "      <th></th>\n",
       "      <th>target</th>\n",
       "      <th>feature1</th>\n",
       "      <th>feature2</th>\n",
       "      <th>feature3</th>\n",
       "      <th>feature4</th>\n",
       "      <th>feature5</th>\n",
       "      <th>feature6</th>\n",
       "      <th>feature7</th>\n",
       "      <th>feature8</th>\n",
       "      <th>feature9</th>\n",
       "      <th>feature10</th>\n",
       "      <th>feature11</th>\n",
       "      <th>feature12</th>\n",
       "      <th>feature13</th>\n",
       "    </tr>\n",
       "  </thead>\n",
       "  <tbody>\n",
       "    <tr>\n",
       "      <th>0</th>\n",
       "      <td>1</td>\n",
       "      <td>0.00</td>\n",
       "      <td>3.51</td>\n",
       "      <td>0.04</td>\n",
       "      <td>0.0</td>\n",
       "      <td>2.39</td>\n",
       "      <td>203.0</td>\n",
       "      <td>7.95</td>\n",
       "      <td>23.71</td>\n",
       "      <td>124.00</td>\n",
       "      <td>143</td>\n",
       "      <td>148</td>\n",
       "      <td>1</td>\n",
       "      <td>2</td>\n",
       "    </tr>\n",
       "    <tr>\n",
       "      <th>1</th>\n",
       "      <td>0</td>\n",
       "      <td>0.27</td>\n",
       "      <td>8.18</td>\n",
       "      <td>3.27</td>\n",
       "      <td>6.0</td>\n",
       "      <td>4.17</td>\n",
       "      <td>108.0</td>\n",
       "      <td>10.24</td>\n",
       "      <td>14.84</td>\n",
       "      <td>83.42</td>\n",
       "      <td>135</td>\n",
       "      <td>203</td>\n",
       "      <td>1</td>\n",
       "      <td>1</td>\n",
       "    </tr>\n",
       "    <tr>\n",
       "      <th>2</th>\n",
       "      <td>0</td>\n",
       "      <td>0.34</td>\n",
       "      <td>5.32</td>\n",
       "      <td>0.07</td>\n",
       "      <td>2.0</td>\n",
       "      <td>4.06</td>\n",
       "      <td>77.0</td>\n",
       "      <td>24.20</td>\n",
       "      <td>15.80</td>\n",
       "      <td>66.29</td>\n",
       "      <td>115</td>\n",
       "      <td>35</td>\n",
       "      <td>3</td>\n",
       "      <td>2</td>\n",
       "    </tr>\n",
       "    <tr>\n",
       "      <th>3</th>\n",
       "      <td>1</td>\n",
       "      <td>NaN</td>\n",
       "      <td>2.77</td>\n",
       "      <td>2.20</td>\n",
       "      <td>7.0</td>\n",
       "      <td>3.34</td>\n",
       "      <td>134.0</td>\n",
       "      <td>7.23</td>\n",
       "      <td>9.56</td>\n",
       "      <td>92.35</td>\n",
       "      <td>169</td>\n",
       "      <td>181</td>\n",
       "      <td>3</td>\n",
       "      <td>3</td>\n",
       "    </tr>\n",
       "    <tr>\n",
       "      <th>4</th>\n",
       "      <td>0</td>\n",
       "      <td>0.62</td>\n",
       "      <td>3.97</td>\n",
       "      <td>2.92</td>\n",
       "      <td>7.0</td>\n",
       "      <td>5.30</td>\n",
       "      <td>25.0</td>\n",
       "      <td>17.80</td>\n",
       "      <td>11.71</td>\n",
       "      <td>33.09</td>\n",
       "      <td>168</td>\n",
       "      <td>51</td>\n",
       "      <td>2</td>\n",
       "      <td>2</td>\n",
       "    </tr>\n",
       "  </tbody>\n",
       "</table>\n",
       "</div>"
      ],
      "text/plain": [
       "   target  feature1  feature2  feature3  feature4  feature5  feature6  \\\n",
       "0       1      0.00      3.51      0.04       0.0      2.39     203.0   \n",
       "1       0      0.27      8.18      3.27       6.0      4.17     108.0   \n",
       "2       0      0.34      5.32      0.07       2.0      4.06      77.0   \n",
       "3       1       NaN      2.77      2.20       7.0      3.34     134.0   \n",
       "4       0      0.62      3.97      2.92       7.0      5.30      25.0   \n",
       "\n",
       "   feature7  feature8  feature9  feature10  feature11  feature12  feature13  \n",
       "0      7.95     23.71    124.00        143        148          1          2  \n",
       "1     10.24     14.84     83.42        135        203          1          1  \n",
       "2     24.20     15.80     66.29        115         35          3          2  \n",
       "3      7.23      9.56     92.35        169        181          3          3  \n",
       "4     17.80     11.71     33.09        168         51          2          2  "
      ]
     },
     "execution_count": 2,
     "metadata": {},
     "output_type": "execute_result"
    }
   ],
   "source": [
    "df = pd.read_csv('train.csv')\n",
    "df.head()"
   ]
  },
  {
   "cell_type": "code",
   "execution_count": 3,
   "id": "c1283a59",
   "metadata": {},
   "outputs": [
    {
     "name": "stdout",
     "output_type": "stream",
     "text": [
      "<class 'pandas.core.frame.DataFrame'>\n",
      "RangeIndex: 1000 entries, 0 to 999\n",
      "Data columns (total 14 columns):\n",
      " #   Column     Non-Null Count  Dtype  \n",
      "---  ------     --------------  -----  \n",
      " 0   target     1000 non-null   int64  \n",
      " 1   feature1   981 non-null    float64\n",
      " 2   feature2   1000 non-null   float64\n",
      " 3   feature3   982 non-null    float64\n",
      " 4   feature4   978 non-null    float64\n",
      " 5   feature5   983 non-null    float64\n",
      " 6   feature6   893 non-null    float64\n",
      " 7   feature7   1000 non-null   float64\n",
      " 8   feature8   1000 non-null   float64\n",
      " 9   feature9   1000 non-null   float64\n",
      " 10  feature10  1000 non-null   int64  \n",
      " 11  feature11  1000 non-null   int64  \n",
      " 12  feature12  1000 non-null   int64  \n",
      " 13  feature13  1000 non-null   int64  \n",
      "dtypes: float64(9), int64(5)\n",
      "memory usage: 109.5 KB\n"
     ]
    }
   ],
   "source": [
    "df.info()"
   ]
  },
  {
   "cell_type": "code",
   "execution_count": 4,
   "id": "d5ff13df",
   "metadata": {},
   "outputs": [],
   "source": [
    "dumbf = df"
   ]
  },
  {
   "cell_type": "code",
   "execution_count": 5,
   "id": "99afc67c",
   "metadata": {},
   "outputs": [
    {
     "name": "stdout",
     "output_type": "stream",
     "text": [
      "<class 'pandas.core.frame.DataFrame'>\n",
      "RangeIndex: 1000 entries, 0 to 999\n",
      "Data columns (total 14 columns):\n",
      " #   Column     Non-Null Count  Dtype  \n",
      "---  ------     --------------  -----  \n",
      " 0   target     1000 non-null   int64  \n",
      " 1   feature1   1000 non-null   float64\n",
      " 2   feature2   1000 non-null   float64\n",
      " 3   feature3   1000 non-null   float64\n",
      " 4   feature4   1000 non-null   float64\n",
      " 5   feature5   1000 non-null   float64\n",
      " 6   feature6   1000 non-null   float64\n",
      " 7   feature7   1000 non-null   float64\n",
      " 8   feature8   1000 non-null   float64\n",
      " 9   feature9   1000 non-null   float64\n",
      " 10  feature10  1000 non-null   int64  \n",
      " 11  feature11  1000 non-null   int64  \n",
      " 12  feature12  1000 non-null   int64  \n",
      " 13  feature13  1000 non-null   int64  \n",
      "dtypes: float64(9), int64(5)\n",
      "memory usage: 109.5 KB\n"
     ]
    }
   ],
   "source": [
    "dumbf = dumbf.fillna(dumbf.mean())\n",
    "dumbf.info()"
   ]
  },
  {
   "cell_type": "code",
   "execution_count": 6,
   "id": "717e7cd8",
   "metadata": {},
   "outputs": [
    {
     "data": {
      "text/plain": [
       "(0      1\n",
       " 1      0\n",
       " 2      0\n",
       " 3      1\n",
       " 4      0\n",
       "       ..\n",
       " 995    0\n",
       " 996    0\n",
       " 997    0\n",
       " 998    1\n",
       " 999    0\n",
       " Name: target, Length: 1000, dtype: int64,\n",
       "      feature1  feature2  feature3  feature4  feature5  feature6  feature7  \\\n",
       " 0    0.000000      3.51      0.04       0.0      2.39     203.0      7.95   \n",
       " 1    0.270000      8.18      3.27       6.0      4.17     108.0     10.24   \n",
       " 2    0.340000      5.32      0.07       2.0      4.06      77.0     24.20   \n",
       " 3    0.495341      2.77      2.20       7.0      3.34     134.0      7.23   \n",
       " 4    0.620000      3.97      2.92       7.0      5.30      25.0     17.80   \n",
       " ..        ...       ...       ...       ...       ...       ...       ...   \n",
       " 995  0.620000      5.20      4.67       7.0      5.92     107.0      8.74   \n",
       " 996  0.890000      2.51      0.78       3.0      6.66      32.0      5.08   \n",
       " 997  0.930000      4.60      1.97       2.0      7.12      86.0     11.29   \n",
       " 998  0.630000      2.69      0.30       3.0      5.35     120.0     24.84   \n",
       " 999  0.940000      7.34      4.31       0.0      6.76     195.0     12.44   \n",
       " \n",
       "      feature8  feature9  feature10  feature11  feature12  feature13  \n",
       " 0       23.71    124.00        143        148          1          2  \n",
       " 1       14.84     83.42        135        203          1          1  \n",
       " 2       15.80     66.29        115         35          3          2  \n",
       " 3        9.56     92.35        169        181          3          3  \n",
       " 4       11.71     33.09        168         51          2          2  \n",
       " ..        ...       ...        ...        ...        ...        ...  \n",
       " 995     10.93     78.80        141         69          1          3  \n",
       " 996      6.31     41.21        191        152          3          3  \n",
       " 997      5.32     70.76        184         41          1          3  \n",
       " 998     24.49     81.86        170        112          2          1  \n",
       " 999     12.72    119.71        178         15          1          2  \n",
       " \n",
       " [1000 rows x 13 columns])"
      ]
     },
     "execution_count": 6,
     "metadata": {},
     "output_type": "execute_result"
    }
   ],
   "source": [
    "y, X = dumbf['target'], dumbf[dumbf.columns[1:]]\n",
    "y, X"
   ]
  },
  {
   "cell_type": "code",
   "execution_count": 7,
   "id": "852828aa",
   "metadata": {},
   "outputs": [],
   "source": [
    "from sklearn.linear_model import LinearRegression"
   ]
  },
  {
   "cell_type": "code",
   "execution_count": 8,
   "id": "77cd4863",
   "metadata": {},
   "outputs": [],
   "source": [
    "instinct = LinearRegression().fit(X, y)"
   ]
  },
  {
   "cell_type": "code",
   "execution_count": 9,
   "id": "fa120ed8",
   "metadata": {},
   "outputs": [
    {
     "data": {
      "text/plain": [
       "0.22896084236959158"
      ]
     },
     "execution_count": 9,
     "metadata": {},
     "output_type": "execute_result"
    }
   ],
   "source": [
    "instinct.score(X, y)"
   ]
  },
  {
   "cell_type": "code",
   "execution_count": 10,
   "id": "484d7aba",
   "metadata": {},
   "outputs": [
    {
     "data": {
      "text/plain": [
       "0.738"
      ]
     },
     "execution_count": 10,
     "metadata": {},
     "output_type": "execute_result"
    }
   ],
   "source": [
    "count = sum((instinct.predict(X) >= 0.5).astype(int) == y)\n",
    "count / 1000"
   ]
  },
  {
   "cell_type": "code",
   "execution_count": 11,
   "id": "8d83d398",
   "metadata": {},
   "outputs": [],
   "source": [
    "from sklearn.linear_model import Ridge, Lasso"
   ]
  },
  {
   "cell_type": "code",
   "execution_count": 12,
   "id": "bf8488fd",
   "metadata": {},
   "outputs": [],
   "source": [
    "rscores, lscores = [], []\n",
    "for n in range(1000):\n",
    "    ridge = Ridge(alpha=10.0 * (n + 1) / 1000, fit_intercept=False)\n",
    "    ridge.fit(X, y)\n",
    "    lasso = Lasso(alpha=10.0 * (n + 1) / 1000, fit_intercept=False)\n",
    "    lasso.fit(X, y)\n",
    "    rscores.append(ridge.score(X, y))\n",
    "    lscores.append(lasso.score(X, y))"
   ]
  },
  {
   "cell_type": "code",
   "execution_count": 13,
   "id": "27d430d1",
   "metadata": {},
   "outputs": [
    {
     "data": {
      "text/plain": [
       "(0.18391314253581248, 0.14698543444732992)"
      ]
     },
     "execution_count": 13,
     "metadata": {},
     "output_type": "execute_result"
    }
   ],
   "source": [
    "np.max(rscores), np.max(lscores)"
   ]
  },
  {
   "cell_type": "code",
   "execution_count": 14,
   "id": "0b911000",
   "metadata": {},
   "outputs": [
    {
     "data": {
      "text/plain": [
       "0.738"
      ]
     },
     "execution_count": 14,
     "metadata": {},
     "output_type": "execute_result"
    }
   ],
   "source": [
    "def acc(model, X, y):\n",
    "    return sum((model.predict(X) >= 0.5).astype(int) == y) / X.shape[0]\n",
    "\n",
    "acc(instinct, X, y)"
   ]
  },
  {
   "cell_type": "code",
   "execution_count": 15,
   "id": "3184eb9a",
   "metadata": {},
   "outputs": [],
   "source": [
    "class average_model:\n",
    "    def __init__(self, models):\n",
    "        self.models = models\n",
    "    def fit(self, X, y):\n",
    "        for model in self.models:\n",
    "            model.fit(X, y)\n",
    "    def predict(self, X):\n",
    "        return sum([model.predict(X) for model in self.models]) / len(self.models)"
   ]
  },
  {
   "cell_type": "code",
   "execution_count": 16,
   "id": "c5cfa053",
   "metadata": {},
   "outputs": [],
   "source": [
    "class weighted_model:\n",
    "    def __init__(self, models, weights):\n",
    "        self.models = models\n",
    "        self.weights = np.array(weights) / sum(weights)\n",
    "    def fit(self, X, y):\n",
    "        for model in self.models:\n",
    "            model.fit(X, y)\n",
    "    def predict(self, X):\n",
    "        return sum([model.predict(X) * self.weights[i] for i, model in enumerate(self.models)]) / len(self.models)"
   ]
  },
  {
   "cell_type": "code",
   "execution_count": 17,
   "id": "567e7339",
   "metadata": {},
   "outputs": [
    {
     "data": {
      "text/plain": [
       "0.738"
      ]
     },
     "execution_count": 17,
     "metadata": {},
     "output_type": "execute_result"
    }
   ],
   "source": [
    "\n",
    "acheck = average_model([LinearRegression()])\n",
    "acheck.fit(X, y)\n",
    "acc(acheck, X, y)"
   ]
  },
  {
   "cell_type": "code",
   "execution_count": 18,
   "id": "19aa4a21",
   "metadata": {},
   "outputs": [
    {
     "data": {
      "text/plain": [
       "(0.692, 0.665)"
      ]
     },
     "execution_count": 18,
     "metadata": {},
     "output_type": "execute_result"
    }
   ],
   "source": [
    "ridge = Ridge(alpha=0.01, fit_intercept=False)\n",
    "lasso = Lasso(alpha=0.01, fit_intercept=False)\n",
    "ridge.fit(X, y)\n",
    "lasso.fit(X, y)\n",
    "acc(ridge, X, y), acc(lasso, X, y)"
   ]
  },
  {
   "cell_type": "code",
   "execution_count": 19,
   "id": "d0ab540d",
   "metadata": {},
   "outputs": [
    {
     "data": {
      "text/plain": [
       "0.704"
      ]
     },
     "execution_count": 19,
     "metadata": {},
     "output_type": "execute_result"
    }
   ],
   "source": [
    "averagem = average_model([LinearRegression(), Ridge(alpha=0.01, fit_intercept=False),\n",
    "                  Lasso(alpha=0.01, fit_intercept=False)])\n",
    "averagem.fit(X, y)\n",
    "acc(averagem, X, y)"
   ]
  },
  {
   "cell_type": "code",
   "execution_count": 20,
   "id": "136d24b6",
   "metadata": {},
   "outputs": [
    {
     "data": {
      "text/plain": [
       "0.549"
      ]
     },
     "execution_count": 20,
     "metadata": {},
     "output_type": "execute_result"
    }
   ],
   "source": [
    "weightm = weighted_model([LinearRegression(), Ridge(alpha=0.01, fit_intercept=False),\n",
    "                  Lasso(alpha=0.01, fit_intercept=False)], [0.735, 0.689, 0.662])\n",
    "weightm.fit(X, y)\n",
    "acc(weightm, X, y)"
   ]
  },
  {
   "cell_type": "code",
   "execution_count": 21,
   "id": "beb45b4f",
   "metadata": {},
   "outputs": [],
   "source": [
    "from matplotlib.gridspec import GridSpec\n",
    "import matplotlib.pyplot as plt"
   ]
  },
  {
   "cell_type": "code",
   "execution_count": 22,
   "id": "0f1a6ed2",
   "metadata": {},
   "outputs": [
    {
     "ename": "IndexError",
     "evalue": "list index out of range",
     "output_type": "error",
     "traceback": [
      "\u001b[1;31m---------------------------------------------------------------------------\u001b[0m",
      "\u001b[1;31mIndexError\u001b[0m                                Traceback (most recent call last)",
      "\u001b[1;32m<ipython-input-22-c3161f834e25>\u001b[0m in \u001b[0;36m<module>\u001b[1;34m\u001b[0m\n\u001b[0;32m      7\u001b[0m \u001b[0mind\u001b[0m \u001b[1;33m=\u001b[0m \u001b[1;36m0\u001b[0m\u001b[1;33m\u001b[0m\u001b[1;33m\u001b[0m\u001b[0m\n\u001b[0;32m      8\u001b[0m \u001b[1;32mfor\u001b[0m \u001b[0mname\u001b[0m \u001b[1;32min\u001b[0m \u001b[0mX\u001b[0m\u001b[1;33m.\u001b[0m\u001b[0mcolumns\u001b[0m\u001b[1;33m:\u001b[0m\u001b[1;33m\u001b[0m\u001b[1;33m\u001b[0m\u001b[0m\n\u001b[1;32m----> 9\u001b[1;33m     \u001b[0max\u001b[0m\u001b[1;33m[\u001b[0m\u001b[0mind\u001b[0m\u001b[1;33m]\u001b[0m\u001b[1;33m.\u001b[0m\u001b[0mscatter\u001b[0m\u001b[1;33m(\u001b[0m\u001b[0mX\u001b[0m\u001b[1;33m[\u001b[0m\u001b[0mname\u001b[0m\u001b[1;33m]\u001b[0m\u001b[1;33m,\u001b[0m \u001b[0my\u001b[0m\u001b[1;33m)\u001b[0m\u001b[1;33m\u001b[0m\u001b[1;33m\u001b[0m\u001b[0m\n\u001b[0m\u001b[0;32m     10\u001b[0m     \u001b[0mind\u001b[0m \u001b[1;33m+=\u001b[0m \u001b[1;36m1\u001b[0m\u001b[1;33m\u001b[0m\u001b[1;33m\u001b[0m\u001b[0m\n\u001b[0;32m     11\u001b[0m \u001b[0mplt\u001b[0m\u001b[1;33m.\u001b[0m\u001b[0mshow\u001b[0m\u001b[1;33m(\u001b[0m\u001b[1;33m)\u001b[0m\u001b[1;33m\u001b[0m\u001b[1;33m\u001b[0m\u001b[0m\n",
      "\u001b[1;31mIndexError\u001b[0m: list index out of range"
     ]
    },
    {
     "data": {
      "image/png": "[encoded data removed]",
      "text/plain": [
       "<Figure size 2592x1728 with 12 Axes>"
      ]
     },
     "metadata": {
      "needs_background": "light"
     },
     "output_type": "display_data"
    }
   ],
   "source": [
    "fig, gs = plt.figure(figsize=(36, 24)), GridSpec(3, 4)\n",
    "\n",
    "ax = []\n",
    "for i in range(12):\n",
    "    ax.append(fig.add_subplot(gs[i]))\n",
    "\n",
    "ind = 0\n",
    "for name in X.columns:\n",
    "    ax[ind].scatter(X[name], y)\n",
    "    ind += 1\n",
    "plt.show()"
   ]
  },
  {
   "cell_type": "code",
   "execution_count": 23,
   "id": "5f9dd584",
   "metadata": {},
   "outputs": [
    {
     "data": {
      "text/html": [
       "<div>\n",
       "<style scoped>\n",
       "    .dataframe tbody tr th:only-of-type {\n",
       "        vertical-align: middle;\n",
       "    }\n",
       "\n",
       "    .dataframe tbody tr th {\n",
       "        vertical-align: top;\n",
       "    }\n",
       "\n",
       "    .dataframe thead th {\n",
       "        text-align: right;\n",
       "    }\n",
       "</style>\n",
       "<table border=\"1\" class=\"dataframe\">\n",
       "  <thead>\n",
       "    <tr style=\"text-align: right;\">\n",
       "      <th></th>\n",
       "      <th>feature1</th>\n",
       "      <th>feature2</th>\n",
       "      <th>feature3</th>\n",
       "      <th>feature4</th>\n",
       "      <th>feature5</th>\n",
       "      <th>feature6</th>\n",
       "      <th>feature7</th>\n",
       "      <th>feature8</th>\n",
       "      <th>feature9</th>\n",
       "      <th>feature10</th>\n",
       "      <th>feature11</th>\n",
       "      <th>feature12</th>\n",
       "      <th>feature13</th>\n",
       "      <th>Id</th>\n",
       "    </tr>\n",
       "  </thead>\n",
       "  <tbody>\n",
       "    <tr>\n",
       "      <th>0</th>\n",
       "      <td>0.42</td>\n",
       "      <td>8.27</td>\n",
       "      <td>0.35</td>\n",
       "      <td>1.0</td>\n",
       "      <td>4.57</td>\n",
       "      <td>22.0</td>\n",
       "      <td>20.74</td>\n",
       "      <td>5.25</td>\n",
       "      <td>39.23</td>\n",
       "      <td>25</td>\n",
       "      <td>39</td>\n",
       "      <td>2</td>\n",
       "      <td>1</td>\n",
       "      <td>0</td>\n",
       "    </tr>\n",
       "    <tr>\n",
       "      <th>1</th>\n",
       "      <td>0.65</td>\n",
       "      <td>4.13</td>\n",
       "      <td>2.84</td>\n",
       "      <td>6.0</td>\n",
       "      <td>5.71</td>\n",
       "      <td>149.0</td>\n",
       "      <td>15.86</td>\n",
       "      <td>9.32</td>\n",
       "      <td>102.48</td>\n",
       "      <td>84</td>\n",
       "      <td>150</td>\n",
       "      <td>2</td>\n",
       "      <td>1</td>\n",
       "      <td>1</td>\n",
       "    </tr>\n",
       "    <tr>\n",
       "      <th>2</th>\n",
       "      <td>0.44</td>\n",
       "      <td>1.95</td>\n",
       "      <td>1.08</td>\n",
       "      <td>3.0</td>\n",
       "      <td>4.78</td>\n",
       "      <td>95.0</td>\n",
       "      <td>14.55</td>\n",
       "      <td>19.81</td>\n",
       "      <td>74.24</td>\n",
       "      <td>206</td>\n",
       "      <td>64</td>\n",
       "      <td>1</td>\n",
       "      <td>2</td>\n",
       "      <td>2</td>\n",
       "    </tr>\n",
       "    <tr>\n",
       "      <th>3</th>\n",
       "      <td>0.71</td>\n",
       "      <td>1.31</td>\n",
       "      <td>2.51</td>\n",
       "      <td>7.0</td>\n",
       "      <td>5.58</td>\n",
       "      <td>158.0</td>\n",
       "      <td>23.06</td>\n",
       "      <td>8.44</td>\n",
       "      <td>103.27</td>\n",
       "      <td>209</td>\n",
       "      <td>162</td>\n",
       "      <td>2</td>\n",
       "      <td>2</td>\n",
       "      <td>3</td>\n",
       "    </tr>\n",
       "    <tr>\n",
       "      <th>4</th>\n",
       "      <td>0.38</td>\n",
       "      <td>5.66</td>\n",
       "      <td>3.85</td>\n",
       "      <td>NaN</td>\n",
       "      <td>4.73</td>\n",
       "      <td>91.0</td>\n",
       "      <td>13.90</td>\n",
       "      <td>7.74</td>\n",
       "      <td>66.64</td>\n",
       "      <td>124</td>\n",
       "      <td>44</td>\n",
       "      <td>2</td>\n",
       "      <td>3</td>\n",
       "      <td>4</td>\n",
       "    </tr>\n",
       "  </tbody>\n",
       "</table>\n",
       "</div>"
      ],
      "text/plain": [
       "   feature1  feature2  feature3  feature4  feature5  feature6  feature7  \\\n",
       "0      0.42      8.27      0.35       1.0      4.57      22.0     20.74   \n",
       "1      0.65      4.13      2.84       6.0      5.71     149.0     15.86   \n",
       "2      0.44      1.95      1.08       3.0      4.78      95.0     14.55   \n",
       "3      0.71      1.31      2.51       7.0      5.58     158.0     23.06   \n",
       "4      0.38      5.66      3.85       NaN      4.73      91.0     13.90   \n",
       "\n",
       "   feature8  feature9  feature10  feature11  feature12  feature13  Id  \n",
       "0      5.25     39.23         25         39          2          1   0  \n",
       "1      9.32    102.48         84        150          2          1   1  \n",
       "2     19.81     74.24        206         64          1          2   2  \n",
       "3      8.44    103.27        209        162          2          2   3  \n",
       "4      7.74     66.64        124         44          2          3   4  "
      ]
     },
     "execution_count": 23,
     "metadata": {},
     "output_type": "execute_result"
    }
   ],
   "source": [
    "X_test = pd.read_csv('test.csv')\n",
    "X_test.head()"
   ]
  },
  {
   "cell_type": "code",
   "execution_count": 24,
   "id": "c03e1b8c",
   "metadata": {},
   "outputs": [
    {
     "data": {
      "text/plain": [
       "0.738"
      ]
     },
     "execution_count": 24,
     "metadata": {},
     "output_type": "execute_result"
    }
   ],
   "source": [
    "acc(instinct, X, y)"
   ]
  },
  {
   "cell_type": "code",
   "execution_count": 25,
   "id": "286aa36c",
   "metadata": {},
   "outputs": [
    {
     "name": "stdout",
     "output_type": "stream",
     "text": [
      "<class 'pandas.core.frame.DataFrame'>\n",
      "RangeIndex: 1000 entries, 0 to 999\n",
      "Data columns (total 14 columns):\n",
      " #   Column     Non-Null Count  Dtype  \n",
      "---  ------     --------------  -----  \n",
      " 0   feature1   976 non-null    float64\n",
      " 1   feature2   1000 non-null   float64\n",
      " 2   feature3   978 non-null    float64\n",
      " 3   feature4   982 non-null    float64\n",
      " 4   feature5   967 non-null    float64\n",
      " 5   feature6   907 non-null    float64\n",
      " 6   feature7   1000 non-null   float64\n",
      " 7   feature8   1000 non-null   float64\n",
      " 8   feature9   1000 non-null   float64\n",
      " 9   feature10  1000 non-null   int64  \n",
      " 10  feature11  1000 non-null   int64  \n",
      " 11  feature12  1000 non-null   int64  \n",
      " 12  feature13  1000 non-null   int64  \n",
      " 13  Id         1000 non-null   int64  \n",
      "dtypes: float64(9), int64(5)\n",
      "memory usage: 109.5 KB\n"
     ]
    }
   ],
   "source": [
    "X_test.info()"
   ]
  },
  {
   "cell_type": "code",
   "execution_count": 26,
   "id": "0750f050",
   "metadata": {},
   "outputs": [],
   "source": [
    "X_test = X_test.fillna(X_test.mean())"
   ]
  },
  {
   "cell_type": "code",
   "execution_count": 29,
   "id": "81a190cd",
   "metadata": {},
   "outputs": [],
   "source": [
    "idd = X_test['Id']\n",
    "del X_test['Id']"
   ]
  },
  {
   "cell_type": "code",
   "execution_count": 33,
   "id": "deb3162a",
   "metadata": {},
   "outputs": [
    {
     "data": {
      "text/plain": [
       "array([1, 0, 0, 0, 1, 0, 0, 0, 0, 0, 1, 0, 0, 0, 0, 0, 1, 1, 1, 1, 1, 1,\n",
       "       1, 1, 1, 0, 0, 0, 0, 0, 0, 1, 1, 0, 0, 0, 1, 0, 0, 1, 0, 0, 0, 0,\n",
       "       1, 0, 1, 1, 0, 1, 0, 1, 0, 0, 0, 0, 1, 1, 0, 0, 1, 1, 1, 0, 1, 1,\n",
       "       1, 0, 0, 0, 0, 0, 0, 1, 1, 0, 0, 0, 0, 0, 0, 1, 0, 0, 0, 0, 0, 1,\n",
       "       0, 1, 0, 0, 1, 0, 1, 1, 1, 0, 1, 1, 1, 0, 1, 0, 0, 0, 1, 0, 0, 0,\n",
       "       0, 1, 0, 0, 0, 1, 1, 1, 1, 0, 1, 1, 1, 1, 0, 1, 0, 0, 0, 1, 0, 0,\n",
       "       0, 0, 0, 0, 1, 1, 1, 0, 0, 0, 0, 0, 0, 0, 1, 1, 0, 0, 0, 1, 1, 0,\n",
       "       0, 1, 1, 0, 1, 0, 0, 0, 0, 1, 0, 1, 1, 1, 0, 1, 0, 0, 0, 0, 1, 0,\n",
       "       0, 1, 0, 1, 0, 0, 1, 0, 0, 1, 0, 1, 0, 0, 0, 0, 1, 0, 0, 1, 0, 0,\n",
       "       1, 0, 0, 0, 0, 1, 0, 0, 0, 0, 0, 0, 1, 1, 0, 1, 0, 0, 1, 0, 0, 0,\n",
       "       0, 0, 1, 1, 1, 0, 0, 0, 1, 0, 1, 1, 0, 1, 0, 0, 1, 1, 1, 0, 1, 0,\n",
       "       0, 0, 1, 1, 0, 1, 1, 0, 1, 0, 1, 1, 0, 0, 1, 1, 1, 1, 0, 1, 1, 0,\n",
       "       0, 0, 0, 0, 1, 0, 0, 0, 1, 0, 0, 1, 0, 1, 1, 0, 0, 0, 1, 0, 1, 0,\n",
       "       0, 0, 0, 0, 1, 1, 0, 1, 1, 0, 0, 0, 0, 0, 1, 0, 1, 1, 0, 1, 0, 0,\n",
       "       0, 0, 1, 0, 0, 0, 0, 0, 1, 0, 1, 0, 0, 0, 1, 1, 1, 1, 0, 0, 0, 0,\n",
       "       1, 0, 1, 0, 0, 1, 0, 1, 0, 0, 1, 1, 0, 0, 1, 1, 0, 1, 0, 0, 0, 0,\n",
       "       1, 1, 1, 0, 0, 1, 1, 0, 0, 0, 1, 0, 1, 1, 1, 0, 1, 1, 1, 1, 0, 0,\n",
       "       0, 0, 0, 0, 0, 1, 1, 0, 0, 1, 0, 0, 0, 0, 1, 0, 0, 0, 0, 0, 1, 0,\n",
       "       0, 0, 0, 0, 0, 0, 1, 1, 1, 0, 1, 1, 1, 1, 1, 1, 0, 1, 0, 1, 1, 0,\n",
       "       0, 0, 0, 1, 1, 0, 0, 0, 1, 1, 0, 1, 0, 1, 1, 0, 0, 0, 1, 1, 0, 0,\n",
       "       0, 1, 1, 0, 0, 0, 0, 0, 1, 0, 0, 1, 0, 1, 0, 0, 0, 1, 1, 1, 0, 0,\n",
       "       1, 1, 0, 1, 1, 1, 1, 0, 0, 0, 0, 0, 0, 1, 0, 0, 1, 1, 1, 1, 0, 1,\n",
       "       0, 0, 0, 0, 0, 1, 0, 0, 0, 0, 0, 0, 1, 0, 0, 0, 0, 1, 0, 0, 1, 1,\n",
       "       0, 0, 1, 1, 0, 0, 0, 0, 0, 0, 0, 0, 1, 0, 1, 0, 1, 0, 0, 0, 1, 0,\n",
       "       1, 0, 1, 0, 1, 0, 0, 0, 0, 0, 1, 0, 1, 0, 1, 1, 0, 1, 0, 0, 0, 1,\n",
       "       0, 1, 0, 1, 0, 0, 1, 0, 0, 1, 1, 1, 1, 1, 1, 1, 0, 0, 0, 0, 0, 1,\n",
       "       1, 1, 1, 0, 1, 0, 1, 0, 0, 0, 1, 1, 0, 1, 0, 0, 0, 0, 0, 0, 0, 1,\n",
       "       1, 0, 0, 0, 1, 0, 0, 1, 0, 0, 1, 1, 0, 0, 0, 0, 0, 1, 0, 0, 1, 1,\n",
       "       0, 0, 1, 0, 0, 0, 1, 0, 0, 0, 1, 0, 1, 1, 0, 1, 1, 0, 0, 0, 0, 0,\n",
       "       0, 0, 1, 0, 1, 0, 0, 1, 0, 0, 0, 1, 1, 1, 0, 0, 0, 0, 1, 0, 0, 0,\n",
       "       1, 0, 0, 1, 0, 0, 0, 0, 0, 0, 0, 0, 1, 1, 0, 1, 1, 0, 0, 1, 0, 0,\n",
       "       0, 1, 0, 1, 0, 1, 0, 1, 0, 1, 0, 0, 1, 0, 1, 0, 1, 1, 0, 1, 0, 0,\n",
       "       0, 0, 0, 0, 0, 0, 0, 0, 1, 1, 0, 0, 1, 1, 1, 1, 0, 1, 0, 0, 0, 1,\n",
       "       1, 0, 1, 0, 0, 1, 1, 0, 0, 0, 1, 0, 0, 1, 1, 1, 0, 1, 0, 0, 0, 0,\n",
       "       1, 1, 0, 1, 0, 0, 1, 0, 0, 0, 1, 1, 1, 0, 1, 0, 0, 0, 1, 1, 0, 0,\n",
       "       0, 1, 1, 0, 1, 1, 1, 0, 0, 0, 0, 1, 1, 0, 1, 1, 1, 0, 1, 0, 0, 0,\n",
       "       0, 1, 0, 0, 0, 0, 0, 1, 1, 1, 0, 0, 1, 1, 1, 0, 0, 0, 0, 1, 0, 1,\n",
       "       1, 0, 1, 0, 1, 0, 0, 1, 0, 0, 0, 1, 0, 0, 0, 1, 0, 0, 0, 0, 1, 0,\n",
       "       1, 1, 1, 0, 0, 0, 1, 1, 0, 1, 0, 1, 1, 0, 0, 1, 0, 1, 1, 0, 1, 1,\n",
       "       0, 0, 0, 0, 0, 1, 1, 0, 0, 0, 0, 1, 0, 0, 1, 1, 1, 0, 1, 0, 1, 0,\n",
       "       0, 0, 0, 0, 0, 1, 0, 0, 0, 1, 1, 1, 1, 0, 0, 1, 1, 0, 0, 1, 1, 1,\n",
       "       1, 1, 1, 0, 0, 1, 0, 0, 1, 0, 0, 0, 1, 0, 0, 1, 0, 0, 0, 0, 0, 1,\n",
       "       1, 0, 1, 0, 0, 0, 1, 0, 1, 1, 0, 0, 0, 0, 1, 1, 1, 0, 0, 0, 1, 1,\n",
       "       0, 1, 0, 1, 0, 1, 0, 0, 0, 0, 1, 0, 0, 1, 0, 1, 0, 1, 1, 0, 0, 0,\n",
       "       0, 0, 0, 0, 0, 0, 0, 0, 0, 1, 1, 1, 1, 1, 1, 0, 0, 1, 0, 0, 0, 0,\n",
       "       1, 0, 1, 1, 0, 0, 1, 0, 0, 1])"
      ]
     },
     "execution_count": 33,
     "metadata": {},
     "output_type": "execute_result"
    }
   ],
   "source": [
    "y = instinct.predict(X_test)\n",
    "y = (y >= 0.5).astype(int)\n",
    "y"
   ]
  },
  {
   "cell_type": "code",
   "execution_count": 35,
   "id": "d3e77d88",
   "metadata": {},
   "outputs": [
    {
     "data": {
      "text/html": [
       "<div>\n",
       "<style scoped>\n",
       "    .dataframe tbody tr th:only-of-type {\n",
       "        vertical-align: middle;\n",
       "    }\n",
       "\n",
       "    .dataframe tbody tr th {\n",
       "        vertical-align: top;\n",
       "    }\n",
       "\n",
       "    .dataframe thead th {\n",
       "        text-align: right;\n",
       "    }\n",
       "</style>\n",
       "<table border=\"1\" class=\"dataframe\">\n",
       "  <thead>\n",
       "    <tr style=\"text-align: right;\">\n",
       "      <th></th>\n",
       "      <th>target</th>\n",
       "      <th>Id</th>\n",
       "    </tr>\n",
       "  </thead>\n",
       "  <tbody>\n",
       "    <tr>\n",
       "      <th>0</th>\n",
       "      <td>1</td>\n",
       "      <td>0</td>\n",
       "    </tr>\n",
       "    <tr>\n",
       "      <th>1</th>\n",
       "      <td>0</td>\n",
       "      <td>1</td>\n",
       "    </tr>\n",
       "    <tr>\n",
       "      <th>2</th>\n",
       "      <td>0</td>\n",
       "      <td>2</td>\n",
       "    </tr>\n",
       "    <tr>\n",
       "      <th>3</th>\n",
       "      <td>0</td>\n",
       "      <td>3</td>\n",
       "    </tr>\n",
       "    <tr>\n",
       "      <th>4</th>\n",
       "      <td>1</td>\n",
       "      <td>4</td>\n",
       "    </tr>\n",
       "  </tbody>\n",
       "</table>\n",
       "</div>"
      ],
      "text/plain": [
       "   target  Id\n",
       "0       1   0\n",
       "1       0   1\n",
       "2       0   2\n",
       "3       0   3\n",
       "4       1   4"
      ]
     },
     "execution_count": 35,
     "metadata": {},
     "output_type": "execute_result"
    }
   ],
   "source": [
    "ans = pd.DataFrame(data={'target': y, 'Id': idd})\n",
    "ans.head()"
   ]
  },
  {
   "cell_type": "code",
   "execution_count": 36,
   "id": "2a2d08ed",
   "metadata": {},
   "outputs": [
    {
     "data": {
      "text/html": [
       "<div>\n",
       "<style scoped>\n",
       "    .dataframe tbody tr th:only-of-type {\n",
       "        vertical-align: middle;\n",
       "    }\n",
       "\n",
       "    .dataframe tbody tr th {\n",
       "        vertical-align: top;\n",
       "    }\n",
       "\n",
       "    .dataframe thead th {\n",
       "        text-align: right;\n",
       "    }\n",
       "</style>\n",
       "<table border=\"1\" class=\"dataframe\">\n",
       "  <thead>\n",
       "    <tr style=\"text-align: right;\">\n",
       "      <th></th>\n",
       "      <th>target</th>\n",
       "      <th>Id</th>\n",
       "    </tr>\n",
       "  </thead>\n",
       "  <tbody>\n",
       "    <tr>\n",
       "      <th>0</th>\n",
       "      <td>0</td>\n",
       "      <td>0</td>\n",
       "    </tr>\n",
       "    <tr>\n",
       "      <th>1</th>\n",
       "      <td>0</td>\n",
       "      <td>1</td>\n",
       "    </tr>\n",
       "    <tr>\n",
       "      <th>2</th>\n",
       "      <td>0</td>\n",
       "      <td>2</td>\n",
       "    </tr>\n",
       "    <tr>\n",
       "      <th>3</th>\n",
       "      <td>0</td>\n",
       "      <td>3</td>\n",
       "    </tr>\n",
       "    <tr>\n",
       "      <th>4</th>\n",
       "      <td>0</td>\n",
       "      <td>4</td>\n",
       "    </tr>\n",
       "  </tbody>\n",
       "</table>\n",
       "</div>"
      ],
      "text/plain": [
       "   target  Id\n",
       "0       0   0\n",
       "1       0   1\n",
       "2       0   2\n",
       "3       0   3\n",
       "4       0   4"
      ]
     },
     "execution_count": 36,
     "metadata": {},
     "output_type": "execute_result"
    }
   ],
   "source": [
    "check = pd.read_csv('sample.csv')\n",
    "check.head()"
   ]
  },
  {
   "cell_type": "code",
   "execution_count": 37,
   "id": "5ef356df",
   "metadata": {},
   "outputs": [],
   "source": [
    "compression_opts = dict(method='zip',\n",
    "                        archive_name='out.csv')  \n",
    "ans.to_csv('out.zip', index=False,\n",
    "          compression=compression_opts)  "
   ]
  }
 ],
 "metadata": {
  "kernelspec": {
   "display_name": "Python 3",
   "language": "python",
   "name": "python3"
  },
  "language_info": {
   "codemirror_mode": {
    "name": "ipython",
    "version": 3
   },
   "file_extension": ".py",
   "mimetype": "text/x-python",
   "name": "python",
   "nbconvert_exporter": "python",
   "pygments_lexer": "ipython3",
   "version": "3.8.8"
  }
 },
 "nbformat": 4,
 "nbformat_minor": 5
}
