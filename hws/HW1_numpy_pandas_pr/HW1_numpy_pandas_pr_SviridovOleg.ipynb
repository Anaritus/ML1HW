{
 "cells": [
  {
   "cell_type": "markdown",
   "metadata": {
    "slideshow": {
     "slide_type": "slide"
    }
   },
   "source": [
    "\n",
    "# Машинное обучение, МКН СПбГУ\n",
    "\n",
    "### Первое домашнее задание (практическое). NumPy, Pandas\n"
   ]
  },
  {
   "cell_type": "markdown",
   "metadata": {},
   "source": [
    "### Формат сдачи\n",
    "Задания сдаются через сайт emkn. Посылка должна содержать:\n",
    "* Сделанный ноутбук `HW1_numpy_pandas_pr_Username.ipynb`. `Username` — ваша фамилия и имя на латинице именно в таком порядке\n",
    "\n",
    "Для удобства проверки самостоятельно посчитайте свою максимальную оценку (исходя из набора решенных задач) и укажите ниже:\n",
    "\n",
    "__Оценка:__"
   ]
  },
  {
   "cell_type": "markdown",
   "metadata": {
    "id": "7K_rmn1sG9rf"
   },
   "source": [
    "### (8 баллов) Знакомство с Numpy\n",
    "\n",
    "Во всех заданиях данного раздела запрещено использовать циклы (ключевые слова *for* и *while*), [list comprehension](https://habrahabr.ru/post/30232/), [map и т.п.](http://pythonicway.com/python-functinal-programming)\n",
    "\n",
    "Под матрицей в заданиях понимается двумерный [numpy.array](https://docs.scipy.org/doc/numpy/reference/generated/numpy.array.html)"
   ]
  },
  {
   "cell_type": "code",
   "execution_count": 1,
   "metadata": {
    "id": "o-q-l906G8J6"
   },
   "outputs": [],
   "source": [
    "import numpy as np\n",
    "\n",
    "from numpy.testing import assert_array_equal\n",
    "\n",
    "import typing as tp\n",
    "import dataclasses\n",
    "\n",
    "import matplotlib.pyplot as plt"
   ]
  },
  {
   "cell_type": "markdown",
   "metadata": {
    "id": "suLnp7DcHHE-"
   },
   "source": [
    "**1. (0.5 балла)** Реализуйте функцию, принимающую на вход матрицу ```X``` и два массива индексов ```row_indices``` и ```col_indices``` одинаковой длины и возвращающую np.array, состоящий из последовательности элементов \n",
    "\n",
    "```[X[row_indices[0], col_indices[0]], ... , X[row_indices[N-1], col_indices[N-1]]]```"
   ]
  },
  {
   "cell_type": "code",
   "execution_count": 2,
   "metadata": {
    "id": "gUhj5T5IHFLs"
   },
   "outputs": [],
   "source": [
    "def construct_array(\n",
    "        X: tp.Any,\n",
    "        row_indices: tp.List[int],\n",
    "        col_indices: tp.List[int]) -> tp.Any:\n",
    "    \"\"\"\n",
    "    Construct slice of given matrix by indices row_indices and col_indices:\n",
    "    [X[row_indices[0], col_indices[0]], ... , X[row_indices[N-1], col_indices[N-1]]]\n",
    "    :param X: input matrix\n",
    "    :param row_indices: list of row indices\n",
    "    :param col_indices: list of column indices\n",
    "    :return: matrix slice\n",
    "    \"\"\"\n",
    "    return X[row_indices, col_indices]"
   ]
  },
  {
   "cell_type": "code",
   "execution_count": 3,
   "metadata": {},
   "outputs": [],
   "source": [
    "@dataclasses.dataclass\n",
    "class ConstructArrayCase:\n",
    "    matrix: tp.Any\n",
    "    row_indices: tp.Any\n",
    "    col_indices: tp.Any\n",
    "    result: np.array\n",
    "\n",
    "\n",
    "CONSTRUCT_ARRAY_TEST_CASES = [\n",
    "    ConstructArrayCase(matrix=np.array(range(25)).reshape(5, 5),\n",
    "                       row_indices=[0, 1, 2],\n",
    "                       col_indices=[0, 1, 2],\n",
    "                       result=np.array([0, 6, 12])),\n",
    "    ConstructArrayCase(matrix=np.arange(-10, 10).reshape((5, 4)),\n",
    "                       row_indices=[1, 2, 3, 3],\n",
    "                       col_indices=[3, 2, 1, 2],\n",
    "                       result=np.array([-3, 0, 3, 4])),\n",
    "    ConstructArrayCase(matrix=np.arange(42).reshape((7, 6)),\n",
    "                       row_indices=[],\n",
    "                       col_indices=[],\n",
    "                       result=np.array([])),\n",
    "    ConstructArrayCase(matrix=np.arange(42).reshape((7, 6)),\n",
    "                       row_indices=np.arange(4),\n",
    "                       col_indices=np.arange(4),\n",
    "                       result=np.array(np.arange(4)) * 7),\n",
    "    ConstructArrayCase(matrix=np.arange(42).reshape((42, 1)),\n",
    "                       row_indices=[0, 1, 41],\n",
    "                       col_indices=[0, 0, 0],\n",
    "                       result=np.array([0, 1, 41]))\n",
    "]"
   ]
  },
  {
   "cell_type": "code",
   "execution_count": 4,
   "metadata": {},
   "outputs": [
    {
     "name": "stdout",
     "output_type": "stream",
     "text": [
      "Seems all right!\n"
     ]
    }
   ],
   "source": [
    "for t in CONSTRUCT_ARRAY_TEST_CASES:\n",
    "    assert_array_equal(construct_array(t.matrix, t.row_indices, t.col_indices), t.result)\n",
    "print(\"Seems all right!\")"
   ]
  },
  {
   "cell_type": "markdown",
   "metadata": {},
   "source": [
    "**2. (1 балл)** Реализуйте функцию, принимающую на вход два одномерных массива ```x``` и ```y``` и возвращающую матрицу, в которой первый массив соответствует первому столбцу матрицы, второй — второму.\n",
    "\n",
    "В этом задании **запрещается** пользоваться операцией транспонирования и рекомедуется воспользоваться методом [reshape](https://docs.scipy.org/doc/numpy-1.13.0/reference/generated/numpy.reshape.html)."
   ]
  },
  {
   "cell_type": "code",
   "execution_count": 5,
   "metadata": {},
   "outputs": [],
   "source": [
    "def construct_matrix(first_array: tp.Any, second_array: tp.Any) -> tp.Any:\n",
    "    \"\"\"\n",
    "    Construct matrix from pair of arrays\n",
    "    :param first_array: first array\n",
    "    :param second_array: second array\n",
    "    :return: constructed matrix\n",
    "    \"\"\"\n",
    "    return np.hstack((first_array.reshape(first_array.size, 1), second_array.reshape(second_array.size, 1))).reshape(first_array.size, 2)"
   ]
  },
  {
   "cell_type": "code",
   "execution_count": 6,
   "metadata": {},
   "outputs": [],
   "source": [
    "@dataclasses.dataclass\n",
    "class ConstructMatrixCase:\n",
    "    first_array: tp.Any\n",
    "    second_array: tp.Any\n",
    "    result: tp.Any\n",
    "\n",
    "\n",
    "CONSTRUCT_MATRIX_TEST_CASES = [\n",
    "    ConstructMatrixCase(\n",
    "        first_array=np.array([1, 2, 3]),\n",
    "        second_array=np.array([4, 5, 6]),\n",
    "        result=np.array([[1, 4], [2, 5], [3, 6]])),\n",
    "    ConstructMatrixCase(\n",
    "        first_array=np.array([]),\n",
    "        second_array=np.array([]),\n",
    "        result=np.array([]).reshape(0, 2)),\n",
    "    ConstructMatrixCase(\n",
    "        first_array=np.array([1]),\n",
    "        second_array=np.array([2]),\n",
    "        result=np.array([[1, 2]])),\n",
    "    ConstructMatrixCase(\n",
    "        first_array=np.arange(0, 100, 2),\n",
    "        second_array=np.arange(1, 100, 2),\n",
    "        result=np.arange(100).reshape(50, 2))\n",
    "]\n"
   ]
  },
  {
   "cell_type": "code",
   "execution_count": 7,
   "metadata": {},
   "outputs": [
    {
     "name": "stdout",
     "output_type": "stream",
     "text": [
      "Seems all right!\n"
     ]
    }
   ],
   "source": [
    "for t in CONSTRUCT_MATRIX_TEST_CASES:\n",
    "    assert_array_equal(construct_matrix(t.first_array, t.second_array), t.result)\n",
    "print(\"Seems all right!\")"
   ]
  },
  {
   "cell_type": "markdown",
   "metadata": {
    "id": "kcTVkJYzHLph"
   },
   "source": [
    "**3. (0.5 балла)** Реализуйте функцию для подсчёта произведения ненулевых элементов на диагонали прямоугольной матрицы\n",
    "\n",
    "Например, для ```X = np.array([[1, 0, 1], [2, 0, 2], [3, 0, 3], [4, 4, 4]])``` ответом является 3.\n",
    "Если ненулевых элементов нет, функция должна возвращать ```None```."
   ]
  },
  {
   "cell_type": "code",
   "execution_count": 8,
   "metadata": {
    "id": "Awt1RoyVHOBl"
   },
   "outputs": [
    {
     "name": "stdout",
     "output_type": "stream",
     "text": [
      "3\n",
      "None\n"
     ]
    }
   ],
   "source": [
    "def nonzero_product(X: tp.Any) -> tp.Optional[float]:\n",
    "    y = X.diagonal()\n",
    "    if y[y != 0].size == 0: return None\n",
    "    return y[y != 0].prod()\n",
    "    \"\"\"\n",
    "    Compute product of nonzero diagonal elements of matrix\n",
    "    If all diagonal elements are zeros, then return None\n",
    "    :param X: array,\n",
    "    :return: product value or None\n",
    "    \"\"\"\n",
    "X = np.array([[1, 0, 1], [2, 0, 2], [3, 0, 3], [4, 4, 4]])\n",
    "print(nonzero_product(X))\n",
    "print(nonzero_product(np.array([[0, 0], [0, 0]])))\n"
   ]
  },
  {
   "cell_type": "markdown",
   "metadata": {
    "id": "zr2iL-s-HQWB"
   },
   "source": [
    "**4. (1 балл)** Реализуйте функцию, возвращающую максимальный элемент в массиве ```X``` среди элементов, перед которыми стоит нулевой.\n",
    "\n",
    "Например, для ```X = np.array([6, 2, 0, 3, 0, 0, 5, 7, 0])``` ответом является 5.\n",
    "Если подходящих элементов нет, функция должна возвращать ```None```."
   ]
  },
  {
   "cell_type": "code",
   "execution_count": 9,
   "metadata": {
    "id": "Vkiuw6mEHT_T"
   },
   "outputs": [
    {
     "name": "stdout",
     "output_type": "stream",
     "text": [
      "5\n",
      "None\n",
      "3\n"
     ]
    }
   ],
   "source": [
    "def max_element_spec(array: tp.Any) -> tp.Optional[float]:\n",
    "    y = np.array(np.concatenate([np.array([1]), array[:-1]]))\n",
    "    x = np.vstack([array, array + y])\n",
    "    ret = x[x == x[0,:]][array.size:]\n",
    "    if ret.size == 0:\n",
    "        return None\n",
    "    return max(ret)\n",
    "    \"\"\"\n",
    "    Moved them by one, stacked initial array with sum of init and moved one. Then left the elements which are equal\n",
    "    to the same but in a first row. Of course, all of the first row is equal to itself, so I must find max only in\n",
    "    the ones that are strarting after first row\n",
    "    \"\"\"\n",
    "\n",
    "    \"\"\"\n",
    "    Return max element in front of which is zero for input array.\n",
    "    If appropriate elements are absent, then return None\n",
    "    :param x: array,\n",
    "    :return: max element value or None\n",
    "    \"\"\"\n",
    "\n",
    "print(max_element_spec(np.array([6, 2, 0, 3, 0, 0, 5, 7, 0])))\n",
    "print(max_element_spec(np.array([1, 1, 1])))\n",
    "print(max_element_spec(np.array([0, 0, 1, 0, 2, 0, 3, 4])))"
   ]
  },
  {
   "cell_type": "markdown",
   "metadata": {
    "id": "35v_P8PfHSiZ"
   },
   "source": [
    "**5. (0.5 балла)** Реализуйте функцию, принимающую на вход матрицу ```X``` и некоторое число ```value``` и возвращающую ближайший к числу элемент матрицы.\n",
    "\n",
    "Например, для ```X = np.arange(0,10).reshape((2, 5))``` и ```value = 3.6``` ответом будет 4."
   ]
  },
  {
   "cell_type": "code",
   "execution_count": 10,
   "metadata": {
    "id": "HXiKj59JHXWH"
   },
   "outputs": [
    {
     "name": "stdout",
     "output_type": "stream",
     "text": [
      "4\n"
     ]
    }
   ],
   "source": [
    "def nearest_value(X: tp.Any, value: float) -> tp.Optional[float]:\n",
    "    y = abs(X - value)\n",
    "    return X[np.unravel_index(np.argmin(y, axis=None), y.shape)]\n",
    "    \"\"\"\n",
    "    Find nearest value in matrix X.\n",
    "    If matrix X is empty return None\n",
    "    :param X: input matrix\n",
    "    :param value: value to find\n",
    "    :return: nearest value in matrix or None\n",
    "    \"\"\"\n",
    "\n",
    "print(nearest_value(np.arange(0,10).reshape((2, 5)), 3.6))"
   ]
  },
  {
   "cell_type": "markdown",
   "metadata": {
    "id": "6WQ_aE9gHZ3C"
   },
   "source": [
    "**6. (0.5 балла)** Реализуйте функцию, принимающую на вход матрицу *X* и возвращающую все встречающиеся в ней строки, но только в единственном экземпляре."
   ]
  },
  {
   "cell_type": "code",
   "execution_count": 11,
   "metadata": {
    "id": "bFrg-B7VHbte"
   },
   "outputs": [
    {
     "name": "stdout",
     "output_type": "stream",
     "text": [
      "[[1 2 3]\n",
      " [4 5 6]]\n"
     ]
    }
   ],
   "source": [
    "def get_unique_rows(X: tp.Any) -> tp.Any:\n",
    "    return np.unique(X, axis=0)\n",
    "    \"\"\"\n",
    "    Makes unique rows of matrix\n",
    "    :param X: matrix\n",
    "    :return: the sorted unique rows of a matrix\n",
    "    \"\"\"\n",
    "    pass # Your code here\n",
    "\n",
    "print(get_unique_rows(np.array(\n",
    "[\n",
    "    [1, 2, 3],\n",
    "    [4, 5, 6],\n",
    "    [1, 2, 3]\n",
    "]\n",
    ")))"
   ]
  },
  {
   "cell_type": "markdown",
   "metadata": {
    "id": "LS_mO_rJHf4g"
   },
   "source": [
    "**7. (1 балл)** Реализуйте функцию, каторая во входной вещественной матрице ```X``` находит все значения ```nan``` и заменяет их на среднее арифметическое всех остальных элементов. Если все элементы матрицы ```nan```, то верните нулевую матрицу той же размерности.\n",
    "\n",
    "Например, матрица ```np.array([[nan,  1,  2,  3], [4, nan,  5, nan]])``` перейдет в ```np.array([[3, 1, 2, 3], [4, 3, 5, 3]])```"
   ]
  },
  {
   "cell_type": "code",
   "execution_count": 12,
   "metadata": {
    "id": "bjf_NFnJHfCM"
   },
   "outputs": [
    {
     "name": "stdout",
     "output_type": "stream",
     "text": [
      "[0. 0. 0.]\n",
      "[[3. 1. 2. 3.]\n",
      " [4. 3. 5. 3.]]\n"
     ]
    }
   ],
   "source": [
    "def replace_nans(matrix: tp.Any) -> tp.Any:\n",
    "    cop = matrix[~np.isnan(matrix)]\n",
    "    if cop.size == 0:\n",
    "        return np.nan_to_num(matrix)\n",
    "    return np.nan_to_num(matrix, nan=cop.mean())\n",
    "    \"\"\"\n",
    "    Replace all nans in matrix with average of other values.\n",
    "    If all values are nans, then return zero matrix of the same size.\n",
    "    :param matrix: matrix,\n",
    "    :return: replaced matrix\n",
    "    \"\"\"\n",
    "print(replace_nans(np.array([np.nan, np.nan, np.nan])))\n",
    "    \n",
    "print(replace_nans(np.array([[np.nan,  1,  2,  3], [4, np.nan,  5, np.nan]])))"
   ]
  },
  {
   "cell_type": "markdown",
   "metadata": {
    "id": "DrAZvyntIJUg"
   },
   "source": [
    "**8. (1 балл)** Написать функцию, которая получает на вход матрицу и масштабирует каждый её столбец, а именно вычитает из столбца его среднее значение и делит столбец на стандартное отклонение. Для тестирования можно сгенерировать с помощью метода *numpy.random.randint* случайную матрицу и проверить на ней работу метода. Убедитесь, что в функции не будет происходить деления на ноль. "
   ]
  },
  {
   "cell_type": "code",
   "execution_count": 13,
   "metadata": {
    "id": "w97rk3QgIKem"
   },
   "outputs": [
    {
     "name": "stdout",
     "output_type": "stream",
     "text": [
      "[[-1. -1. -1.]\n",
      " [ 1.  1.  1.]]\n"
     ]
    }
   ],
   "source": [
    "def scale(X):\n",
    "    y = X - np.mean(X, axis=0)\n",
    "    z = np.std(X, axis = 0)\n",
    "    if np.where(z==0)[0].size != 0: return None\n",
    "    return y / z\n",
    "    \"\"\"\n",
    "    Scales each column of matrix X, \n",
    "    namely, subtracts its mean from the column and \n",
    "    divides the column by the standard deviation.\n",
    "    \"\"\"\n",
    "    \n",
    "\n",
    "print(scale(np.array([[1, 2, 3], [4, 5, 6]])))"
   ]
  },
  {
   "cell_type": "markdown",
   "metadata": {
    "id": "CMTdIfiEINQM"
   },
   "source": [
    "**9. (1 балл)** Реализуйте функцию, которая для заданной матрицы находит:\n",
    " - определитель\n",
    " - след\n",
    " - наименьший и наибольший элементы\n",
    " - норму Фробениуса\n",
    " - собственные числа\n",
    " - обратную матрицу\n",
    "\n",
    "Для тестирования сгенерируйте матрицу с элементами из нормального распределения *N*(10,1)"
   ]
  },
  {
   "cell_type": "code",
   "execution_count": 14,
   "metadata": {},
   "outputs": [
    {
     "name": "stdout",
     "output_type": "stream",
     "text": [
      "[7.999999999999998 7 0 4 4.58257569495584 array([1., 2., 4.])\n",
      " array([[1.  , 0.  , 0.  ],\n",
      "       [0.  , 0.5 , 0.  ],\n",
      "       [0.  , 0.  , 0.25]])]\n",
      "[76.86585369256834 53.85425082567708 7.644895766984781 13.2532615044356\n",
      " 50.92474879025624\n",
      " array([-1.18391885,  0.28442893,  0.66026774,  3.13580992, 50.9576631 ])\n",
      " array([[-0.65131964, -2.78774907,  2.75327419, -4.65830079,  5.63172156],\n",
      "       [ 0.50454029,  1.09044499, -1.30923634,  2.10900051, -2.4969138 ],\n",
      "       [ 0.488634  ,  2.39519761, -1.95968788,  3.38829705, -4.47564998],\n",
      "       [-0.30828663, -0.8462038 ,  0.89694482, -0.89611786,  1.21819234],\n",
      "       [ 0.03019078,  0.33032009, -0.540066  ,  0.27593874, -0.0952251 ]])]\n"
     ]
    }
   ],
   "source": [
    "def matr_All(X: tp.Any) -> tp.Any:\n",
    "    det = np.linalg.det(X)\n",
    "    tr = sum(X.diagonal())\n",
    "    mini, maxi = X.min(), X.max()\n",
    "    norm = np.linalg.norm(X, ord='fro')\n",
    "    own = np.linalg.eigh(X)[0]\n",
    "    rev = np.linalg.inv(X)\n",
    "    return np.array([det, tr, mini, maxi, norm, own, rev])\n",
    "\n",
    "print(matr_All(np.array(\n",
    "[\n",
    "    [1, 0, 0],\n",
    "    [0, 2, 0],\n",
    "    [0, 0, 4]\n",
    "])))\n",
    "\n",
    "print(matr_All(np.random.normal(10, 1, (5, 5))))"
   ]
  },
  {
   "cell_type": "markdown",
   "metadata": {
    "id": "dAC4uHb6IZys"
   },
   "source": [
    "**10. (1 балл)** Повторите 100 раз следующий эксперимент: сгенерируйте две матрицы размера 10×10 из стандартного нормального распределения, перемножьте их (как матрицы) и найдите максимальный элемент. Какое среднее значение по экспериментам у максимальных элементов? 95-процентная квантиль? (в данной задаче можно использовать цикл только для повторения эксперимента) \n",
    "Какое распределение у элементов произведения?"
   ]
  },
  {
   "cell_type": "code",
   "execution_count": 15,
   "metadata": {},
   "outputs": [
    {
     "name": "stdout",
     "output_type": "stream",
     "text": [
      "8.180853934532507 11.562936170250728\n"
     ]
    },
    {
     "data": {
      "text/plain": [
       "(array([ 2.,  5.,  9., 10., 17., 20., 16.,  6.,  7.,  8.]),\n",
       " array([1.58331718, 1.67684025, 1.77036332, 1.8638864 , 1.95740947,\n",
       "        2.05093254, 2.14445561, 2.23797868, 2.33150175, 2.42502483,\n",
       "        2.5185479 ]),\n",
       " <a list of 10 Patch objects>)"
      ]
     },
     "execution_count": 15,
     "metadata": {},
     "output_type": "execute_result"
    },
    {
     "data": {
      "image/png": "[encoded data removed]",
      "text/plain": [
       "<Figure size 432x288 with 1 Axes>"
      ]
     },
     "metadata": {
      "needs_background": "light"
     },
     "output_type": "display_data"
    }
   ],
   "source": [
    "x = []\n",
    "for i in range(100):\n",
    "    X = np.random.normal(0, 1, (10, 10))\n",
    "    Y = np.random.normal(0, 1, (10, 10))\n",
    "    x.append(np.dot(X, Y).max())\n",
    "x = np.array(x)\n",
    "print(x.mean(), np.quantile(x, 0.95))\n",
    "\n",
    "\n",
    "plt.hist(x, color='blue')\n",
    "plt.hist(np.log(x), color='red')"
   ]
  },
  {
   "cell_type": "markdown",
   "metadata": {},
   "source": [
    "Итого, есть основания полагать, что распределение максимума произведений двух случайных матриц логнормально, или, по крайней мере, будет стремится к таковому при стремлении размеров матриц к бесконечности."
   ]
  },
  {
   "cell_type": "markdown",
   "metadata": {
    "id": "JPUiojnEIlGP"
   },
   "source": [
    "### (4 балла) Pandas \n"
   ]
  },
  {
   "cell_type": "markdown",
   "metadata": {
    "id": "QXhmTiQHImLp"
   },
   "source": [
    "Загрузите данные о пассажирах Титаника из файла *titanic.csv* и ответьте на вопросы ниже. Каждый ответ поясните.\n",
    "\n",
    "**1. (1 балл)** Опишите данный датасет: какое расределение женщин/мужчин в нем? Сколько пассажиров ехало в каждом классе? Какой средний/минимальный/максимальный возраст пассажиров? Сколько было выживших пассажиров?"
   ]
  },
  {
   "cell_type": "code",
   "execution_count": 16,
   "metadata": {
    "id": "FGCmQXuIIdmn"
   },
   "outputs": [
    {
     "data": {
      "text/html": [
       "<div>\n",
       "<style scoped>\n",
       "    .dataframe tbody tr th:only-of-type {\n",
       "        vertical-align: middle;\n",
       "    }\n",
       "\n",
       "    .dataframe tbody tr th {\n",
       "        vertical-align: top;\n",
       "    }\n",
       "\n",
       "    .dataframe thead th {\n",
       "        text-align: right;\n",
       "    }\n",
       "</style>\n",
       "<table border=\"1\" class=\"dataframe\">\n",
       "  <thead>\n",
       "    <tr style=\"text-align: right;\">\n",
       "      <th></th>\n",
       "      <th>PassengerId</th>\n",
       "      <th>Survived</th>\n",
       "      <th>Pclass</th>\n",
       "      <th>Name</th>\n",
       "      <th>Sex</th>\n",
       "      <th>Age</th>\n",
       "      <th>SibSp</th>\n",
       "      <th>Parch</th>\n",
       "      <th>Ticket</th>\n",
       "      <th>Fare</th>\n",
       "      <th>Cabin</th>\n",
       "      <th>Embarked</th>\n",
       "    </tr>\n",
       "  </thead>\n",
       "  <tbody>\n",
       "    <tr>\n",
       "      <th>0</th>\n",
       "      <td>1</td>\n",
       "      <td>0</td>\n",
       "      <td>3</td>\n",
       "      <td>Braund, Mr. Owen Harris</td>\n",
       "      <td>male</td>\n",
       "      <td>22.0</td>\n",
       "      <td>1</td>\n",
       "      <td>0</td>\n",
       "      <td>A/5 21171</td>\n",
       "      <td>7.2500</td>\n",
       "      <td>NaN</td>\n",
       "      <td>S</td>\n",
       "    </tr>\n",
       "    <tr>\n",
       "      <th>1</th>\n",
       "      <td>2</td>\n",
       "      <td>1</td>\n",
       "      <td>1</td>\n",
       "      <td>Cumings, Mrs. John Bradley (Florence Briggs Th...</td>\n",
       "      <td>female</td>\n",
       "      <td>38.0</td>\n",
       "      <td>1</td>\n",
       "      <td>0</td>\n",
       "      <td>PC 17599</td>\n",
       "      <td>71.2833</td>\n",
       "      <td>C85</td>\n",
       "      <td>C</td>\n",
       "    </tr>\n",
       "    <tr>\n",
       "      <th>2</th>\n",
       "      <td>3</td>\n",
       "      <td>1</td>\n",
       "      <td>3</td>\n",
       "      <td>Heikkinen, Miss. Laina</td>\n",
       "      <td>female</td>\n",
       "      <td>26.0</td>\n",
       "      <td>0</td>\n",
       "      <td>0</td>\n",
       "      <td>STON/O2. 3101282</td>\n",
       "      <td>7.9250</td>\n",
       "      <td>NaN</td>\n",
       "      <td>S</td>\n",
       "    </tr>\n",
       "    <tr>\n",
       "      <th>3</th>\n",
       "      <td>4</td>\n",
       "      <td>1</td>\n",
       "      <td>1</td>\n",
       "      <td>Futrelle, Mrs. Jacques Heath (Lily May Peel)</td>\n",
       "      <td>female</td>\n",
       "      <td>35.0</td>\n",
       "      <td>1</td>\n",
       "      <td>0</td>\n",
       "      <td>113803</td>\n",
       "      <td>53.1000</td>\n",
       "      <td>C123</td>\n",
       "      <td>S</td>\n",
       "    </tr>\n",
       "    <tr>\n",
       "      <th>4</th>\n",
       "      <td>5</td>\n",
       "      <td>0</td>\n",
       "      <td>3</td>\n",
       "      <td>Allen, Mr. William Henry</td>\n",
       "      <td>male</td>\n",
       "      <td>35.0</td>\n",
       "      <td>0</td>\n",
       "      <td>0</td>\n",
       "      <td>373450</td>\n",
       "      <td>8.0500</td>\n",
       "      <td>NaN</td>\n",
       "      <td>S</td>\n",
       "    </tr>\n",
       "  </tbody>\n",
       "</table>\n",
       "</div>"
      ],
      "text/plain": [
       "   PassengerId  Survived  Pclass  \\\n",
       "0            1         0       3   \n",
       "1            2         1       1   \n",
       "2            3         1       3   \n",
       "3            4         1       1   \n",
       "4            5         0       3   \n",
       "\n",
       "                                                Name     Sex   Age  SibSp  \\\n",
       "0                            Braund, Mr. Owen Harris    male  22.0      1   \n",
       "1  Cumings, Mrs. John Bradley (Florence Briggs Th...  female  38.0      1   \n",
       "2                             Heikkinen, Miss. Laina  female  26.0      0   \n",
       "3       Futrelle, Mrs. Jacques Heath (Lily May Peel)  female  35.0      1   \n",
       "4                           Allen, Mr. William Henry    male  35.0      0   \n",
       "\n",
       "   Parch            Ticket     Fare Cabin Embarked  \n",
       "0      0         A/5 21171   7.2500   NaN        S  \n",
       "1      0          PC 17599  71.2833   C85        C  \n",
       "2      0  STON/O2. 3101282   7.9250   NaN        S  \n",
       "3      0            113803  53.1000  C123        S  \n",
       "4      0            373450   8.0500   NaN        S  "
      ]
     },
     "execution_count": 16,
     "metadata": {},
     "output_type": "execute_result"
    }
   ],
   "source": [
    "import pandas as pd\n",
    "df = pd.read_csv(\"titanic.csv\", sep=\"\\t\")\n",
    "df.head()"
   ]
  },
  {
   "cell_type": "code",
   "execution_count": 17,
   "metadata": {},
   "outputs": [
    {
     "data": {
      "text/html": [
       "<div>\n",
       "<style scoped>\n",
       "    .dataframe tbody tr th:only-of-type {\n",
       "        vertical-align: middle;\n",
       "    }\n",
       "\n",
       "    .dataframe tbody tr th {\n",
       "        vertical-align: top;\n",
       "    }\n",
       "\n",
       "    .dataframe thead th {\n",
       "        text-align: right;\n",
       "    }\n",
       "</style>\n",
       "<table border=\"1\" class=\"dataframe\">\n",
       "  <thead>\n",
       "    <tr style=\"text-align: right;\">\n",
       "      <th></th>\n",
       "      <th>PassengerId</th>\n",
       "      <th>Survived</th>\n",
       "      <th>Pclass</th>\n",
       "      <th>Age</th>\n",
       "      <th>SibSp</th>\n",
       "      <th>Parch</th>\n",
       "      <th>Fare</th>\n",
       "    </tr>\n",
       "  </thead>\n",
       "  <tbody>\n",
       "    <tr>\n",
       "      <th>count</th>\n",
       "      <td>156.000000</td>\n",
       "      <td>156.000000</td>\n",
       "      <td>156.000000</td>\n",
       "      <td>126.000000</td>\n",
       "      <td>156.000000</td>\n",
       "      <td>156.000000</td>\n",
       "      <td>156.000000</td>\n",
       "    </tr>\n",
       "    <tr>\n",
       "      <th>mean</th>\n",
       "      <td>78.500000</td>\n",
       "      <td>0.346154</td>\n",
       "      <td>2.423077</td>\n",
       "      <td>28.141508</td>\n",
       "      <td>0.615385</td>\n",
       "      <td>0.397436</td>\n",
       "      <td>28.109587</td>\n",
       "    </tr>\n",
       "    <tr>\n",
       "      <th>std</th>\n",
       "      <td>45.177428</td>\n",
       "      <td>0.477275</td>\n",
       "      <td>0.795459</td>\n",
       "      <td>14.613880</td>\n",
       "      <td>1.056235</td>\n",
       "      <td>0.870146</td>\n",
       "      <td>39.401047</td>\n",
       "    </tr>\n",
       "    <tr>\n",
       "      <th>min</th>\n",
       "      <td>1.000000</td>\n",
       "      <td>0.000000</td>\n",
       "      <td>1.000000</td>\n",
       "      <td>0.830000</td>\n",
       "      <td>0.000000</td>\n",
       "      <td>0.000000</td>\n",
       "      <td>6.750000</td>\n",
       "    </tr>\n",
       "    <tr>\n",
       "      <th>25%</th>\n",
       "      <td>39.750000</td>\n",
       "      <td>0.000000</td>\n",
       "      <td>2.000000</td>\n",
       "      <td>19.000000</td>\n",
       "      <td>0.000000</td>\n",
       "      <td>0.000000</td>\n",
       "      <td>8.003150</td>\n",
       "    </tr>\n",
       "    <tr>\n",
       "      <th>50%</th>\n",
       "      <td>78.500000</td>\n",
       "      <td>0.000000</td>\n",
       "      <td>3.000000</td>\n",
       "      <td>26.000000</td>\n",
       "      <td>0.000000</td>\n",
       "      <td>0.000000</td>\n",
       "      <td>14.454200</td>\n",
       "    </tr>\n",
       "    <tr>\n",
       "      <th>75%</th>\n",
       "      <td>117.250000</td>\n",
       "      <td>1.000000</td>\n",
       "      <td>3.000000</td>\n",
       "      <td>35.000000</td>\n",
       "      <td>1.000000</td>\n",
       "      <td>0.000000</td>\n",
       "      <td>30.371850</td>\n",
       "    </tr>\n",
       "    <tr>\n",
       "      <th>max</th>\n",
       "      <td>156.000000</td>\n",
       "      <td>1.000000</td>\n",
       "      <td>3.000000</td>\n",
       "      <td>71.000000</td>\n",
       "      <td>5.000000</td>\n",
       "      <td>5.000000</td>\n",
       "      <td>263.000000</td>\n",
       "    </tr>\n",
       "  </tbody>\n",
       "</table>\n",
       "</div>"
      ],
      "text/plain": [
       "       PassengerId    Survived      Pclass         Age       SibSp  \\\n",
       "count   156.000000  156.000000  156.000000  126.000000  156.000000   \n",
       "mean     78.500000    0.346154    2.423077   28.141508    0.615385   \n",
       "std      45.177428    0.477275    0.795459   14.613880    1.056235   \n",
       "min       1.000000    0.000000    1.000000    0.830000    0.000000   \n",
       "25%      39.750000    0.000000    2.000000   19.000000    0.000000   \n",
       "50%      78.500000    0.000000    3.000000   26.000000    0.000000   \n",
       "75%     117.250000    1.000000    3.000000   35.000000    1.000000   \n",
       "max     156.000000    1.000000    3.000000   71.000000    5.000000   \n",
       "\n",
       "            Parch        Fare  \n",
       "count  156.000000  156.000000  \n",
       "mean     0.397436   28.109587  \n",
       "std      0.870146   39.401047  \n",
       "min      0.000000    6.750000  \n",
       "25%      0.000000    8.003150  \n",
       "50%      0.000000   14.454200  \n",
       "75%      0.000000   30.371850  \n",
       "max      5.000000  263.000000  "
      ]
     },
     "execution_count": 17,
     "metadata": {},
     "output_type": "execute_result"
    }
   ],
   "source": [
    "df.describe()"
   ]
  },
  {
   "cell_type": "code",
   "execution_count": 18,
   "metadata": {},
   "outputs": [
    {
     "data": {
      "text/html": [
       "<div>\n",
       "<style scoped>\n",
       "    .dataframe tbody tr th:only-of-type {\n",
       "        vertical-align: middle;\n",
       "    }\n",
       "\n",
       "    .dataframe tbody tr th {\n",
       "        vertical-align: top;\n",
       "    }\n",
       "\n",
       "    .dataframe thead th {\n",
       "        text-align: right;\n",
       "    }\n",
       "</style>\n",
       "<table border=\"1\" class=\"dataframe\">\n",
       "  <thead>\n",
       "    <tr style=\"text-align: right;\">\n",
       "      <th></th>\n",
       "      <th>Sex</th>\n",
       "      <th>Cabin</th>\n",
       "    </tr>\n",
       "  </thead>\n",
       "  <tbody>\n",
       "    <tr>\n",
       "      <th>count</th>\n",
       "      <td>156</td>\n",
       "      <td>31</td>\n",
       "    </tr>\n",
       "    <tr>\n",
       "      <th>unique</th>\n",
       "      <td>2</td>\n",
       "      <td>28</td>\n",
       "    </tr>\n",
       "    <tr>\n",
       "      <th>top</th>\n",
       "      <td>male</td>\n",
       "      <td>C123</td>\n",
       "    </tr>\n",
       "    <tr>\n",
       "      <th>freq</th>\n",
       "      <td>100</td>\n",
       "      <td>2</td>\n",
       "    </tr>\n",
       "  </tbody>\n",
       "</table>\n",
       "</div>"
      ],
      "text/plain": [
       "         Sex Cabin\n",
       "count    156    31\n",
       "unique     2    28\n",
       "top     male  C123\n",
       "freq     100     2"
      ]
     },
     "execution_count": 18,
     "metadata": {},
     "output_type": "execute_result"
    }
   ],
   "source": [
    "df[['Sex', 'Cabin']].describe()"
   ]
  },
  {
   "cell_type": "markdown",
   "metadata": {
    "id": "1ahIW-TCI2r3"
   },
   "source": [
    "**2. (1 балл)** Верно ли, что женщины выживали чаще мужчин? Какие пассажиры выживали чаще: с более дешевыми или дорогими билетами? Верно ли, что чаще выживали более молодые пассажиры?"
   ]
  },
  {
   "cell_type": "code",
   "execution_count": 19,
   "metadata": {},
   "outputs": [
    {
     "name": "stdout",
     "output_type": "stream",
     "text": [
      "males survival rate: 0.14\n",
      "females survival rate: 0.7142857142857143\n",
      "        Survived\n",
      "Pclass          \n",
      "1       0.400000\n",
      "2       0.466667\n",
      "3       0.291667\n",
      "people under 40 survival rate:  0.3619047619047619\n",
      "people over 40 survival rate:  0.14285714285714285\n"
     ]
    }
   ],
   "source": [
    "print('males survival rate:', df[df['Sex'] == 'male']['Survived'].mean())\n",
    "print('females survival rate:', df[df['Sex'] == 'female']['Survived'].mean())\n",
    "\n",
    "print(df.groupby(['Pclass'])[['Survived']].mean())\n",
    "\n",
    "print('people under 40 survival rate: ', df[df['Age'] <= 40]['Survived'].mean())\n",
    "print('people over 40 survival rate: ', df[df['Age'] > 40]['Survived'].mean())"
   ]
  },
  {
   "cell_type": "markdown",
   "metadata": {},
   "source": [
    "    Попробуем объяснить данные. Оказывается, что среди мужчин выжило лишь 14 процентов. Полагаю, это связано с тем, что весь персонал был мужской (таковы были времена), и они занимались эвакуацией людей, причем пассажиры мужского пола, вероятно, помогали им. \n",
    "    Так же несложно видеть, что пассажиры третьего класса заметно реже спасались. Вероятно, это вызвано низким располажением кают. Различие между первым и вторым можно попробовать объяснить в следующей задаче.\n",
    "    Ну и наконец, несложно понять, что человек до 40 будет в среднем испытывать гораздо меньше проблем при попытке выжить при крушении корабля, как и удержаться на плаву, пусть и цепляясь за какой нибудь кусок корабля. Опять же, точно не знаю, но, вероятно, большая часть персонала была старше 40, а они занимались пассажирами."
   ]
  },
  {
   "cell_type": "markdown",
   "metadata": {
    "id": "MrxN8Y7OI6Vu"
   },
   "source": [
    "**3. (1 балл)** Сгруппируйте записи по классам пассажиров, в каждой группе посчитайте средний возраст. Верно ли, что во всех классах эта величина примерно одинакова?\n"
   ]
  },
  {
   "cell_type": "code",
   "execution_count": 20,
   "metadata": {},
   "outputs": [
    {
     "data": {
      "text/html": [
       "<div>\n",
       "<style scoped>\n",
       "    .dataframe tbody tr th:only-of-type {\n",
       "        vertical-align: middle;\n",
       "    }\n",
       "\n",
       "    .dataframe tbody tr th {\n",
       "        vertical-align: top;\n",
       "    }\n",
       "\n",
       "    .dataframe thead th {\n",
       "        text-align: right;\n",
       "    }\n",
       "</style>\n",
       "<table border=\"1\" class=\"dataframe\">\n",
       "  <thead>\n",
       "    <tr style=\"text-align: right;\">\n",
       "      <th></th>\n",
       "      <th>Age</th>\n",
       "    </tr>\n",
       "    <tr>\n",
       "      <th>Pclass</th>\n",
       "      <th></th>\n",
       "    </tr>\n",
       "  </thead>\n",
       "  <tbody>\n",
       "    <tr>\n",
       "      <th>1</th>\n",
       "      <td>38.111111</td>\n",
       "    </tr>\n",
       "    <tr>\n",
       "      <th>2</th>\n",
       "      <td>28.114828</td>\n",
       "    </tr>\n",
       "    <tr>\n",
       "      <th>3</th>\n",
       "      <td>24.307143</td>\n",
       "    </tr>\n",
       "  </tbody>\n",
       "</table>\n",
       "</div>"
      ],
      "text/plain": [
       "              Age\n",
       "Pclass           \n",
       "1       38.111111\n",
       "2       28.114828\n",
       "3       24.307143"
      ]
     },
     "execution_count": 20,
     "metadata": {},
     "output_type": "execute_result"
    }
   ],
   "source": [
    "df.groupby(['Pclass'])[['Age']].mean()"
   ]
  },
  {
   "cell_type": "markdown",
   "metadata": {},
   "source": [
    "В то время, как второй и третий класс имеют примерно одинаковые возрасты, первый класс явно сильно старше оставшихся двух. Так же это может объяснять почему представители второго класса выживали чаще представителей первого. Вероятно их каюты были сильно ближе к уровню моря(если не над ним), ежели чем каюты третьего класса, однако средний представитель второго класса был весьма молодым человеком, сильно моложе типичного представителя перового класса, что объясняет наибольшую выживаемость."
   ]
  },
  {
   "cell_type": "markdown",
   "metadata": {
    "id": "2Ee80P1KI86d"
   },
   "source": [
    "**4. (1 балл)** Найдите все признаки, для которых есть пропуски в данных. Обычно алгоритмы по умолчанию не умеют обрабатывать такие данные. Предложите способы обработки данных с пропусками (не менее двух) и укажите достоинства/недостаки каждого. Проиллюстрируйте их на примере данного датасета.\n"
   ]
  },
  {
   "cell_type": "code",
   "execution_count": 21,
   "metadata": {},
   "outputs": [
    {
     "name": "stdout",
     "output_type": "stream",
     "text": [
      "Age\n",
      "Cabin\n",
      "Embarked\n"
     ]
    }
   ],
   "source": [
    "for t in df.columns:\n",
    "    if df[t].isnull().values.any(): print(t)"
   ]
  },
  {
   "cell_type": "markdown",
   "metadata": {},
   "source": [
    "Начнем с возраста. Это числовой столбец, так что можно заменить все пропуски на средннее, но тогда средний возраст пассажира первого класса (возможно) незаслуженно упадет, а пассажира второго и третьего вырастет. Аналогично можно менять на медианное, однако та же проблема все так же всплывает. Более того, если мы попробуем оценить форму распределения возраста, то заметим в центре огромный столбец, спровоцированный нашей заменой.\n",
    "В случае Cabin и Embarked, шкалы являются номинальными, просто ограниченный список названий. В зависимости от изучаемых нами взаимосвязей можно делать следующее: допустим исследуется частота выживания пассажиров, севших в блоке С(то есть тех, номер каюты который выглядит как C<номер>). Тогда нам не имеет смысла как либо менять значения nan, мы не можем с полной уверенностью сказать где данный пассажир мог жить, и, если количество значений будет достаточным, можем просто игнорировать всех nan, то есть просто удалять из датасета.\n",
    "Теперь допустим мы исследуем некую величину из представленных вдоль и поперек(например Fare). Предположим, нам потребовалось одновременно рассматривать пол И кабину, в которой человек расположился. Тогда мы не можем игнорировать nan, или, по крайней мере, очень не хотим, так что логичный выход заменить на самые частые значения, среди сгруппированных по параметрам Fare и Sex одновременно. Аналогичные утверждения применимы и к графе Embarked.\n"
   ]
  },
  {
   "cell_type": "markdown",
   "metadata": {
    "id": "9k3a3TwQJIvu"
   },
   "source": [
    "### (2 балла) Matplotlib\n"
   ]
  },
  {
   "cell_type": "markdown",
   "metadata": {
    "id": "2p8qJF4rJbOl"
   },
   "source": [
    "Обратите внимание, что у графиков должны быть подписаны оси, заголовок графика и при необходимости обязательно наличие легенды. За отсутствие названий графиков и подписей к осям могут снижаться баллы. Все картинки должны быть самодостаточны и визуально удобны для восприятия, так чтобы не нужно было смотреть ваш код или знать задание, чтобы понять что на них изображено.\n",
    "\n",
    "![](https://imgs.xkcd.com/comics/convincing.png)\n",
    "\n",
    "**1. (1 балл)** Используя функцию *gen_uncertain_data* для генерации выборки, отобразите на графике синим цветом функцию *y(x)*, а также ее доверительный интервал в виде закрашенной зеленым цветом области от *y[i] - error[i]* до *y[i] + error[i]*. Полезной может оказаться функция *fill_between*.\n"
   ]
  },
  {
   "cell_type": "code",
   "execution_count": 22,
   "metadata": {
    "id": "07pRnpSVJbhv"
   },
   "outputs": [
    {
     "data": {
      "image/png": "[encoded data removed]",
      "text/plain": [
       "<Figure size 432x288 with 1 Axes>"
      ]
     },
     "metadata": {
      "needs_background": "light"
     },
     "output_type": "display_data"
    }
   ],
   "source": [
    "def gen_uncertain_data():\n",
    "        x = np.linspace(0, 30, 100)\n",
    "        y = np.sin(x/6*np.pi) + np.random.normal(0, 0.02, size=x.shape)\n",
    "        error = np.random.normal(0.1, 0.02, size=y.shape)\n",
    "        return x, y, error\n",
    "    \n",
    "x, y, err = gen_uncertain_data()\n",
    "plt.plot(x, y)\n",
    "plt.ylabel('y')\n",
    "plt.xlabel('x')\n",
    "plt.title('y(x)+-error')\n",
    "plt.fill_between(x, y-err, y+err, color='lightgreen')\n",
    "plt.show()"
   ]
  },
  {
   "cell_type": "markdown",
   "metadata": {
    "id": "eEnOCJkEJp6I"
   },
   "source": [
    "**2. (1 балл)** Отобразите гистограмму распределения возрастов для каждого класса пассажиров (здесь нужно использовать данные из заданий по pandas). В результате вы должны получить три гистограммы, которые необходимо отобразить рядом друг с другом используя функцию *plt.subplots*. Каждая гистограмма должна быть нормирована. Обратите внимание на параметры *figsize*, *sharey*, *sharex* функции *plt.subplots*. Также полезными могут оказаться параметры *bins*, *density* функции *plt.hist*.\n"
   ]
  },
  {
   "cell_type": "code",
   "execution_count": 26,
   "metadata": {
    "scrolled": true
   },
   "outputs": [
    {
     "data": {
      "image/png": "[encoded data removed]",
      "text/plain": [
       "<Figure size 1944x648 with 3 Axes>"
      ]
     },
     "metadata": {
      "needs_background": "light"
     },
     "output_type": "display_data"
    }
   ],
   "source": [
    "pclassage = df.groupby('Pclass')['Age']\n",
    "\n",
    "f, axs = plt.subplots(1, 3, figsize = (27, 9))\n",
    "for key, ax in zip(pclassage.groups.keys(), axs.flatten()):\n",
    "    ax.hist(pclassage.get_group(key), density = True)\n",
    "    ax.set(xlabel = 'Age', ylabel = 'Frequency')\n",
    "    ax.set_title('Pclass = ' + str(key))"
   ]
  }
 ],
 "metadata": {
  "colab": {
   "name": "HW1.ipynb",
   "provenance": []
  },
  "kernelspec": {
   "display_name": "Python 3",
   "language": "python",
   "name": "python3"
  },
  "language_info": {
   "codemirror_mode": {
    "name": "ipython",
    "version": 3
   },
   "file_extension": ".py",
   "mimetype": "text/x-python",
   "name": "python",
   "nbconvert_exporter": "python",
   "pygments_lexer": "ipython3",
   "version": "3.8.3"
  }
 },
 "nbformat": 4,
 "nbformat_minor": 1
}
